{
 "cells": [
  {
   "cell_type": "code",
   "execution_count": 1,
   "metadata": {},
   "outputs": [],
   "source": [
    "# load libraries\n",
    "import pandas as pd\n",
    "from sklearn.model_selection import train_test_split\n",
    "from sklearn import linear_model\n",
    "from sklearn.preprocessing import scale, StandardScaler\n",
    "from sklearn.decomposition import PCA"
   ]
  },
  {
   "cell_type": "code",
   "execution_count": 2,
   "metadata": {},
   "outputs": [
    {
     "data": {
      "text/html": [
       "<div>\n",
       "<style scoped>\n",
       "    .dataframe tbody tr th:only-of-type {\n",
       "        vertical-align: middle;\n",
       "    }\n",
       "\n",
       "    .dataframe tbody tr th {\n",
       "        vertical-align: top;\n",
       "    }\n",
       "\n",
       "    .dataframe thead th {\n",
       "        text-align: right;\n",
       "    }\n",
       "</style>\n",
       "<table border=\"1\" class=\"dataframe\">\n",
       "  <thead>\n",
       "    <tr style=\"text-align: right;\">\n",
       "      <th></th>\n",
       "      <th>alcohol</th>\n",
       "      <th>malic_acid</th>\n",
       "      <th>ash</th>\n",
       "      <th>alcalinity_of_ash</th>\n",
       "      <th>magnesium</th>\n",
       "      <th>total_phenols</th>\n",
       "      <th>flavanoids</th>\n",
       "      <th>nonflavanoid_phenols</th>\n",
       "      <th>proanthocyanins</th>\n",
       "      <th>color_intensity</th>\n",
       "      <th>hue</th>\n",
       "      <th>OD280_OD315_of_diluted_wines</th>\n",
       "      <th>proline</th>\n",
       "    </tr>\n",
       "  </thead>\n",
       "  <tbody>\n",
       "    <tr>\n",
       "      <th>0</th>\n",
       "      <td>14.23</td>\n",
       "      <td>1.71</td>\n",
       "      <td>2.43</td>\n",
       "      <td>15.6</td>\n",
       "      <td>127</td>\n",
       "      <td>2.80</td>\n",
       "      <td>3.06</td>\n",
       "      <td>0.28</td>\n",
       "      <td>2.29</td>\n",
       "      <td>5.64</td>\n",
       "      <td>1.04</td>\n",
       "      <td>3.92</td>\n",
       "      <td>1065</td>\n",
       "    </tr>\n",
       "    <tr>\n",
       "      <th>1</th>\n",
       "      <td>13.20</td>\n",
       "      <td>1.78</td>\n",
       "      <td>2.14</td>\n",
       "      <td>11.2</td>\n",
       "      <td>100</td>\n",
       "      <td>2.65</td>\n",
       "      <td>2.76</td>\n",
       "      <td>0.26</td>\n",
       "      <td>1.28</td>\n",
       "      <td>4.38</td>\n",
       "      <td>1.05</td>\n",
       "      <td>3.40</td>\n",
       "      <td>1050</td>\n",
       "    </tr>\n",
       "    <tr>\n",
       "      <th>2</th>\n",
       "      <td>13.16</td>\n",
       "      <td>2.36</td>\n",
       "      <td>2.67</td>\n",
       "      <td>18.6</td>\n",
       "      <td>101</td>\n",
       "      <td>2.80</td>\n",
       "      <td>3.24</td>\n",
       "      <td>0.30</td>\n",
       "      <td>2.81</td>\n",
       "      <td>5.68</td>\n",
       "      <td>1.03</td>\n",
       "      <td>3.17</td>\n",
       "      <td>1185</td>\n",
       "    </tr>\n",
       "    <tr>\n",
       "      <th>3</th>\n",
       "      <td>14.37</td>\n",
       "      <td>1.95</td>\n",
       "      <td>2.50</td>\n",
       "      <td>16.8</td>\n",
       "      <td>113</td>\n",
       "      <td>3.85</td>\n",
       "      <td>3.49</td>\n",
       "      <td>0.24</td>\n",
       "      <td>2.18</td>\n",
       "      <td>7.80</td>\n",
       "      <td>0.86</td>\n",
       "      <td>3.45</td>\n",
       "      <td>1480</td>\n",
       "    </tr>\n",
       "    <tr>\n",
       "      <th>4</th>\n",
       "      <td>13.24</td>\n",
       "      <td>2.59</td>\n",
       "      <td>2.87</td>\n",
       "      <td>21.0</td>\n",
       "      <td>118</td>\n",
       "      <td>2.80</td>\n",
       "      <td>2.69</td>\n",
       "      <td>0.39</td>\n",
       "      <td>1.82</td>\n",
       "      <td>4.32</td>\n",
       "      <td>1.04</td>\n",
       "      <td>2.93</td>\n",
       "      <td>735</td>\n",
       "    </tr>\n",
       "  </tbody>\n",
       "</table>\n",
       "</div>"
      ],
      "text/plain": [
       "   alcohol  malic_acid   ash  alcalinity_of_ash  magnesium  total_phenols  \\\n",
       "0    14.23        1.71  2.43               15.6        127           2.80   \n",
       "1    13.20        1.78  2.14               11.2        100           2.65   \n",
       "2    13.16        2.36  2.67               18.6        101           2.80   \n",
       "3    14.37        1.95  2.50               16.8        113           3.85   \n",
       "4    13.24        2.59  2.87               21.0        118           2.80   \n",
       "\n",
       "   flavanoids  nonflavanoid_phenols  proanthocyanins  color_intensity   hue  \\\n",
       "0        3.06                  0.28             2.29             5.64  1.04   \n",
       "1        2.76                  0.26             1.28             4.38  1.05   \n",
       "2        3.24                  0.30             2.81             5.68  1.03   \n",
       "3        3.49                  0.24             2.18             7.80  0.86   \n",
       "4        2.69                  0.39             1.82             4.32  1.04   \n",
       "\n",
       "   OD280_OD315_of_diluted_wines  proline  \n",
       "0                          3.92     1065  \n",
       "1                          3.40     1050  \n",
       "2                          3.17     1185  \n",
       "3                          3.45     1480  \n",
       "4                          2.93      735  "
      ]
     },
     "execution_count": 2,
     "metadata": {},
     "output_type": "execute_result"
    }
   ],
   "source": [
    "# load dataset\n",
    "data = pd.read_csv(\"data_lecture_12.csv\")\n",
    "data.head()"
   ]
  },
  {
   "cell_type": "code",
   "execution_count": 3,
   "metadata": {},
   "outputs": [],
   "source": [
    "# partition dataset into training and validation sets using holdout method\n",
    "X_train, X_val, Y_train, Y_val = train_test_split(data[['malic_acid', 'ash', 'alcalinity_of_ash', 'magnesium', 'total_phenols',\\\n",
    "                                                         'flavanoids', 'nonflavanoid_phenols', 'proanthocyanins', 'color_intensity',\\\n",
    "                                                         'hue', 'OD280_OD315_of_diluted_wines', 'proline']],\\\n",
    "                                                    data['alcohol'], test_size = 0.2, random_state = 0)"
   ]
  },
  {
   "cell_type": "code",
   "execution_count": 4,
   "metadata": {},
   "outputs": [
    {
     "name": "stdout",
     "output_type": "stream",
     "text": [
      "<class 'pandas.core.frame.DataFrame'>\n",
      "Int64Index: 142 entries, 161 to 172\n",
      "Data columns (total 12 columns):\n",
      "malic_acid                      142 non-null float64\n",
      "ash                             142 non-null float64\n",
      "alcalinity_of_ash               142 non-null float64\n",
      "magnesium                       142 non-null int64\n",
      "total_phenols                   142 non-null float64\n",
      "flavanoids                      142 non-null float64\n",
      "nonflavanoid_phenols            142 non-null float64\n",
      "proanthocyanins                 142 non-null float64\n",
      "color_intensity                 142 non-null float64\n",
      "hue                             142 non-null float64\n",
      "OD280_OD315_of_diluted_wines    142 non-null float64\n",
      "proline                         142 non-null int64\n",
      "dtypes: float64(10), int64(2)\n",
      "memory usage: 14.4 KB\n",
      "None\n"
     ]
    }
   ],
   "source": [
    "# explore training set\n",
    "print(X_train.info())"
   ]
  },
  {
   "cell_type": "code",
   "execution_count": 5,
   "metadata": {},
   "outputs": [
    {
     "name": "stdout",
     "output_type": "stream",
     "text": [
      "<class 'pandas.core.frame.DataFrame'>\n",
      "Int64Index: 36 entries, 54 to 44\n",
      "Data columns (total 12 columns):\n",
      "malic_acid                      36 non-null float64\n",
      "ash                             36 non-null float64\n",
      "alcalinity_of_ash               36 non-null float64\n",
      "magnesium                       36 non-null int64\n",
      "total_phenols                   36 non-null float64\n",
      "flavanoids                      36 non-null float64\n",
      "nonflavanoid_phenols            36 non-null float64\n",
      "proanthocyanins                 36 non-null float64\n",
      "color_intensity                 36 non-null float64\n",
      "hue                             36 non-null float64\n",
      "OD280_OD315_of_diluted_wines    36 non-null float64\n",
      "proline                         36 non-null int64\n",
      "dtypes: float64(10), int64(2)\n",
      "memory usage: 3.7 KB\n",
      "None\n"
     ]
    }
   ],
   "source": [
    "# explore validation set\n",
    "print(X_val.info())"
   ]
  },
  {
   "cell_type": "code",
   "execution_count": 6,
   "metadata": {},
   "outputs": [
    {
     "name": "stdout",
     "output_type": "stream",
     "text": [
      "[-7.114809524006285e-17, 1.2592807455239045e-16]\n",
      "[1.0, 1.0]\n"
     ]
    }
   ],
   "source": [
    "# scale data\n",
    "X_train = scale(X_train)\n",
    "X_val = scale(X_val)\n",
    "print([X_train.mean(), X_val.mean()]) # show means\n",
    "print([X_train.std(), X_val.std()]) # show standard deviation"
   ]
  },
  {
   "cell_type": "code",
   "execution_count": 7,
   "metadata": {},
   "outputs": [
    {
     "name": "stdout",
     "output_type": "stream",
     "text": [
      "[ 0.11423491  0.05735224 -0.10531089  0.0446806  -0.0131364   0.21775444\n",
      "  0.05690744 -0.15666349  0.42101127  0.05115575  0.08839278  0.24272   ]\n",
      "[0.6048488360784352, 0.41220150505672914]\n"
     ]
    }
   ],
   "source": [
    "# build regression model with all as predictors\n",
    "model = linear_model.LinearRegression().fit(X = X_train, y = Y_train)\n",
    "score_train = model.score(X = X_train, y = Y_train) # R squared (training)\n",
    "score_val = model.score(X = X_val, y = Y_val) # R squared (validation)\n",
    "print(model.coef_)\n",
    "print([score_train, score_val])"
   ]
  },
  {
   "cell_type": "code",
   "execution_count": 8,
   "metadata": {},
   "outputs": [
    {
     "name": "stdout",
     "output_type": "stream",
     "text": [
      "[ 0.  0. -0.  0.  0.  0. -0.  0.  0. -0.  0.  0.]\n",
      "12.984859154929579\n",
      "[0.0, -0.008879893188963761]\n"
     ]
    }
   ],
   "source": [
    "# build LASSO regression model\n",
    "model = linear_model.Lasso(alpha = 1).fit(X = X_train, y = Y_train)\n",
    "print(model.coef_)\n",
    "print(model.intercept_)\n",
    "score_train = model.score(X = X_train, y = Y_train) # R squared (training)\n",
    "score_val = model.score(X = X_val, y = Y_val) # R squared (validation)\n",
    "print([score_train, score_val])"
   ]
  },
  {
   "cell_type": "code",
   "execution_count": 9,
   "metadata": {},
   "outputs": [],
   "source": [
    "# reduce dimensionality using PCA\n",
    "pca = PCA(n_components = 6).fit(X_train) # project data into principal components\n",
    "X_train_pca = pca.transform(X_train) # apply projection on training set\n",
    "X_val_pca = pca.transform(X_val) # apply projection on validation set"
   ]
  },
  {
   "cell_type": "code",
   "execution_count": 10,
   "metadata": {},
   "outputs": [
    {
     "name": "stdout",
     "output_type": "stream",
     "text": [
      "[0.39461488 0.1662307  0.11371862 0.07620343 0.06504009 0.05129967]\n"
     ]
    }
   ],
   "source": [
    "# show percentage of variance explained by each principal component\n",
    "print(pca.explained_variance_ratio_)"
   ]
  },
  {
   "cell_type": "code",
   "execution_count": 11,
   "metadata": {},
   "outputs": [],
   "source": [
    "# QUESTION: how many principal components do we use?\n",
    "# ANSWER: we use the first six principal components that explain 86.7% of the variance"
   ]
  },
  {
   "cell_type": "code",
   "execution_count": 12,
   "metadata": {},
   "outputs": [
    {
     "name": "stdout",
     "output_type": "stream",
     "text": [
      "[[-0.25694531 -0.02386606 -0.23700857  0.11726249  0.38652386  0.42819794\n",
      "  -0.30911422  0.30881861 -0.1389186   0.32088422  0.38579505  0.26212283]\n",
      " [-0.24469632 -0.42237884 -0.03778652 -0.36660273 -0.17228757 -0.07659385\n",
      "  -0.00339845 -0.1698935  -0.5501029   0.28175272  0.13125497 -0.40279499]\n",
      " [-0.04010051 -0.58253958 -0.62559843  0.09732088 -0.14217041 -0.11347446\n",
      "  -0.20693714 -0.08955465  0.24509037 -0.17577975 -0.20556826  0.20257547]\n",
      " [-0.17453814  0.06056349  0.16958229  0.77976808 -0.23862671 -0.1555229\n",
      "  -0.35750766 -0.13182968 -0.24595393  0.11793382 -0.12333527 -0.11462073]\n",
      " [ 0.61797779 -0.25927728  0.06276918  0.10478326  0.07462063  0.06148154\n",
      "  -0.25223024  0.42222642 -0.15909143 -0.30885211  0.16887734 -0.36809851]\n",
      " [-0.39146633 -0.24777433  0.11642874  0.18101695 -0.02195904 -0.06475922\n",
      "   0.44560084  0.66420598  0.13637706  0.04473311 -0.21592031 -0.16556636]]\n"
     ]
    }
   ],
   "source": [
    "# show coefficients of principal components\n",
    "print(pca.components_)"
   ]
  },
  {
   "cell_type": "code",
   "execution_count": 13,
   "metadata": {},
   "outputs": [
    {
     "name": "stdout",
     "output_type": "stream",
     "text": [
      "[ 0.07732375 -0.35592129  0.13684361 -0.16614539 -0.17149378 -0.1551822 ]\n",
      "[0.5712788929279324, 0.5181850359346911]\n"
     ]
    }
   ],
   "source": [
    "# build regression model with principal components as predictors\n",
    "model = linear_model.LinearRegression().fit(X = X_train_pca, y = Y_train)\n",
    "score_train = model.score(X = X_train_pca, y = Y_train) # R squared (training)\n",
    "score_val = model.score(X = X_val_pca, y = Y_val) # R squared (validation)\n",
    "print(model.coef_)\n",
    "print([score_train, score_val])"
   ]
  }
 ],
 "metadata": {
  "kernelspec": {
   "display_name": "Python 3",
   "language": "python",
   "name": "python3"
  },
  "language_info": {
   "codemirror_mode": {
    "name": "ipython",
    "version": 3
   },
   "file_extension": ".py",
   "mimetype": "text/x-python",
   "name": "python",
   "nbconvert_exporter": "python",
   "pygments_lexer": "ipython3",
   "version": "3.5.2"
  }
 },
 "nbformat": 4,
 "nbformat_minor": 2
}

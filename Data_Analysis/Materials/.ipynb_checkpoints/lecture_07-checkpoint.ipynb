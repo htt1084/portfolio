{
 "cells": [
  {
   "cell_type": "code",
   "execution_count": null,
   "metadata": {},
   "outputs": [],
   "source": [
    "# load libraries\n",
    "import pandas as pd\n",
    "import matplotlib.pyplot as plt\n",
    "import seaborn as sns"
   ]
  },
  {
   "cell_type": "code",
   "execution_count": null,
   "metadata": {},
   "outputs": [],
   "source": [
    "# load dataset\n",
    "data = pd.read_csv('data_lecture_07.csv')\n",
    "print(data)"
   ]
  },
  {
   "cell_type": "code",
   "execution_count": null,
   "metadata": {},
   "outputs": [],
   "source": [
    "# calculate click-through-rate\n",
    "rate = data['Clicks']/data['Ads']\n",
    "rate = rate.to_frame(name = 'Rate')\n",
    "data = pd.concat([data, rate], axis = 1)\n",
    "print(data)"
   ]
  },
  {
   "cell_type": "code",
   "execution_count": null,
   "metadata": {},
   "outputs": [],
   "source": [
    "# calculate summary statistics of users\n",
    "data.describe()"
   ]
  },
  {
   "cell_type": "code",
   "execution_count": null,
   "metadata": {},
   "outputs": [],
   "source": [
    "# visualize summary statistics of users using box plots\n",
    "num_columns = len(data.columns)\n",
    "fig, axes = plt.subplots(1, num_columns, figsize = (10, 5))\n",
    "for i in range(num_columns):\n",
    "    sns.boxplot(y = data.columns[i], data = data, orient = 'v', ax = axes[i])\n",
    "plt.tight_layout()"
   ]
  },
  {
   "cell_type": "code",
   "execution_count": null,
   "metadata": {},
   "outputs": [],
   "source": [
    "# QUESTION 01: what do the summary statistics/box plots tell us about each variable?"
   ]
  },
  {
   "cell_type": "code",
   "execution_count": null,
   "metadata": {},
   "outputs": [],
   "source": [
    "# calculate summary statistics of users with age = 0\n",
    "data[data['Age'] == 0].describe()"
   ]
  },
  {
   "cell_type": "code",
   "execution_count": null,
   "metadata": {},
   "outputs": [],
   "source": [
    "# visualize summary statistics of users with age = 0 using box plots\n",
    "num_columns = len(data.columns)\n",
    "fig, axes = plt.subplots(1, num_columns, figsize = (10, 5))\n",
    "for i in range(num_columns):\n",
    "    sns.boxplot(y = data.columns[i], data = data[data['Age'] == 0], orient = 'v', ax = axes[i])\n",
    "plt.tight_layout()"
   ]
  },
  {
   "cell_type": "code",
   "execution_count": null,
   "metadata": {},
   "outputs": [],
   "source": [
    "# QUESTION 02: what can we infer about the users with age = 0?"
   ]
  },
  {
   "cell_type": "code",
   "execution_count": null,
   "metadata": {},
   "outputs": [],
   "source": [
    "# calculate summary statistics of users grouped by 'sign in' status\n",
    "data.groupby('Signed_In').describe().transpose()"
   ]
  },
  {
   "cell_type": "code",
   "execution_count": null,
   "metadata": {},
   "outputs": [],
   "source": [
    "# visualize summary statistics of users grouped by 'sign in' status using box plots\n",
    "num_columns = len(data.columns)\n",
    "fig, axes = plt.subplots(1, num_columns, figsize = (10, 5))\n",
    "for i in range(num_columns):\n",
    "    sns.boxplot(x = 'Signed_In', y = data.columns[i], data = data, orient = 'v', ax = axes[i])\n",
    "plt.tight_layout()"
   ]
  },
  {
   "cell_type": "code",
   "execution_count": null,
   "metadata": {},
   "outputs": [],
   "source": [
    "# QUESTION 03: what new information do we obtain by grouping the users by 'sign in' status?"
   ]
  },
  {
   "cell_type": "code",
   "execution_count": null,
   "metadata": {},
   "outputs": [],
   "source": [
    "# calculate summary statistics of signed-in users grouped by gender\n",
    "data[data['Signed_In'] == 1].groupby('Gender').describe().transpose()"
   ]
  },
  {
   "cell_type": "code",
   "execution_count": null,
   "metadata": {},
   "outputs": [],
   "source": [
    "# visualize summary statistics of signed-in users grouped by gender using box plots\n",
    "num_columns = len(data.columns)\n",
    "fig, axes = plt.subplots(1, num_columns, figsize = (10, 5))\n",
    "for i in range(num_columns):\n",
    "    sns.boxplot(x = 'Gender', y = data.columns[i], data = data[data['Signed_In'] == 1], orient = 'v', ax = axes[i])\n",
    "plt.tight_layout()"
   ]
  },
  {
   "cell_type": "code",
   "execution_count": null,
   "metadata": {},
   "outputs": [],
   "source": [
    "# QUESTION 04: what new information do we obtain by grouping the signed-in users by gender?"
   ]
  },
  {
   "cell_type": "code",
   "execution_count": null,
   "metadata": {},
   "outputs": [],
   "source": [
    "# separate users by age group\n",
    "bins = pd.IntervalIndex.from_tuples([(0, 18), (18, 24), (24, 34), (34, 44), (44, 54), (54, 64), (64, 110)])\n",
    "age_group = pd.cut(data['Age'], bins)\n",
    "age_group = age_group.to_frame(name = 'Age_Group')\n",
    "data = pd.concat([data, age_group], axis = 1)\n",
    "print(data)"
   ]
  },
  {
   "cell_type": "code",
   "execution_count": null,
   "metadata": {},
   "outputs": [],
   "source": [
    "# calculate summary statistics of signed-in users by age group\n",
    "data.groupby('Age_Group').describe().transpose()"
   ]
  },
  {
   "cell_type": "code",
   "execution_count": null,
   "metadata": {},
   "outputs": [],
   "source": [
    "# visualize means of signed-in users by age group\n",
    "fig, axes = plt.subplots(3, 1, figsize = (10, 5))\n",
    "sns.barplot(x = 'Age_Group', y = 'Ads', data = data, ax = axes[0])\n",
    "sns.barplot(x = 'Age_Group', y = 'Clicks', data = data, ax = axes[1])\n",
    "sns.barplot(x = 'Age_Group', y = 'Rate', data = data, ax = axes[2])\n",
    "plt.tight_layout()"
   ]
  },
  {
   "cell_type": "code",
   "execution_count": null,
   "metadata": {},
   "outputs": [],
   "source": [
    "# QUESTION 05: what new information do we obtain by grouping the signed-in users by age?"
   ]
  },
  {
   "cell_type": "code",
   "execution_count": null,
   "metadata": {},
   "outputs": [],
   "source": [
    "# visualize means of signed-in users by age group and gender\n",
    "fig, axes = plt.subplots(3, 1, figsize = (10, 5))\n",
    "sns.barplot(x = 'Age_Group', y = 'Ads', hue = 'Gender', data = data, ax = axes[0])\n",
    "sns.barplot(x = 'Age_Group', y = 'Clicks', hue = 'Gender', data = data, ax = axes[1])\n",
    "sns.barplot(x = 'Age_Group', y = 'Rate', hue = 'Gender', data = data, ax = axes[2])\n",
    "plt.tight_layout()"
   ]
  },
  {
   "cell_type": "code",
   "execution_count": null,
   "metadata": {},
   "outputs": [],
   "source": [
    "# QUESTION 06: what new information do we obtain by grouping the signed-in users by age and gender?"
   ]
  },
  {
   "cell_type": "code",
   "execution_count": null,
   "metadata": {},
   "outputs": [],
   "source": [
    "# QUESTION 07: can we build a model to predict click-through-rate given these variables?"
   ]
  }
 ],
 "metadata": {
  "kernelspec": {
   "display_name": "Python 3",
   "language": "python",
   "name": "python3"
  },
  "language_info": {
   "codemirror_mode": {
    "name": "ipython",
    "version": 3
   },
   "file_extension": ".py",
   "mimetype": "text/x-python",
   "name": "python",
   "nbconvert_exporter": "python",
   "pygments_lexer": "ipython3",
<<<<<<< HEAD
   "version": "3.6.6"
=======
   "version": "3.5.2"
>>>>>>> 3865e18dc71edb6f5040b6052a8306a01a91f33c
  }
 },
 "nbformat": 4,
 "nbformat_minor": 2
}

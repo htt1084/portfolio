{
 "cells": [
  {
   "cell_type": "code",
   "execution_count": 1,
   "metadata": {},
   "outputs": [],
   "source": [
    "# load libraries\n",
    "import matplotlib.pyplot as plt\n",
    "import seaborn as sns\n",
    "import pandas as pd\n",
    "from sklearn.model_selection import train_test_split\n",
    "from sklearn.preprocessing import StandardScaler  \n",
    "from sklearn.neighbors import KNeighborsClassifier \n",
    "from sklearn.naive_bayes import GaussianNB\n",
    "from sklearn.svm import SVC\n",
    "from sklearn.linear_model import LogisticRegression\n",
    "from sklearn import metrics"
   ]
  },
  {
   "cell_type": "code",
   "execution_count": 2,
   "metadata": {
    "scrolled": true
   },
   "outputs": [
    {
     "data": {
      "text/html": [
       "<div>\n",
       "<style scoped>\n",
       "    .dataframe tbody tr th:only-of-type {\n",
       "        vertical-align: middle;\n",
       "    }\n",
       "\n",
       "    .dataframe tbody tr th {\n",
       "        vertical-align: top;\n",
       "    }\n",
       "\n",
       "    .dataframe thead th {\n",
       "        text-align: right;\n",
       "    }\n",
       "</style>\n",
       "<table border=\"1\" class=\"dataframe\">\n",
       "  <thead>\n",
       "    <tr style=\"text-align: right;\">\n",
       "      <th></th>\n",
       "      <th>sepal_length</th>\n",
       "      <th>sepal_width</th>\n",
       "      <th>petal_length</th>\n",
       "      <th>petal_width</th>\n",
       "      <th>species</th>\n",
       "    </tr>\n",
       "  </thead>\n",
       "  <tbody>\n",
       "    <tr>\n",
       "      <th>0</th>\n",
       "      <td>5.1</td>\n",
       "      <td>3.5</td>\n",
       "      <td>1.4</td>\n",
       "      <td>0.2</td>\n",
       "      <td>setosa</td>\n",
       "    </tr>\n",
       "    <tr>\n",
       "      <th>1</th>\n",
       "      <td>4.9</td>\n",
       "      <td>3.0</td>\n",
       "      <td>1.4</td>\n",
       "      <td>0.2</td>\n",
       "      <td>setosa</td>\n",
       "    </tr>\n",
       "    <tr>\n",
       "      <th>2</th>\n",
       "      <td>4.7</td>\n",
       "      <td>3.2</td>\n",
       "      <td>1.3</td>\n",
       "      <td>0.2</td>\n",
       "      <td>setosa</td>\n",
       "    </tr>\n",
       "    <tr>\n",
       "      <th>3</th>\n",
       "      <td>4.6</td>\n",
       "      <td>3.1</td>\n",
       "      <td>1.5</td>\n",
       "      <td>0.2</td>\n",
       "      <td>setosa</td>\n",
       "    </tr>\n",
       "    <tr>\n",
       "      <th>4</th>\n",
       "      <td>5.0</td>\n",
       "      <td>3.6</td>\n",
       "      <td>1.4</td>\n",
       "      <td>0.2</td>\n",
       "      <td>setosa</td>\n",
       "    </tr>\n",
       "  </tbody>\n",
       "</table>\n",
       "</div>"
      ],
      "text/plain": [
       "   sepal_length  sepal_width  petal_length  petal_width species\n",
       "0           5.1          3.5           1.4          0.2  setosa\n",
       "1           4.9          3.0           1.4          0.2  setosa\n",
       "2           4.7          3.2           1.3          0.2  setosa\n",
       "3           4.6          3.1           1.5          0.2  setosa\n",
       "4           5.0          3.6           1.4          0.2  setosa"
      ]
     },
     "execution_count": 2,
     "metadata": {},
     "output_type": "execute_result"
    }
   ],
   "source": [
    "# loads dataset\n",
    "data = sns.load_dataset(\"iris\")\n",
    "data.head()"
   ]
  },
  {
   "cell_type": "code",
   "execution_count": 3,
   "metadata": {},
   "outputs": [
    {
     "name": "stdout",
     "output_type": "stream",
     "text": [
      "<class 'pandas.core.frame.DataFrame'>\n",
      "RangeIndex: 150 entries, 0 to 149\n",
      "Data columns (total 5 columns):\n",
      "sepal_length    150 non-null float64\n",
      "sepal_width     150 non-null float64\n",
      "petal_length    150 non-null float64\n",
      "petal_width     150 non-null float64\n",
      "species         150 non-null object\n",
      "dtypes: float64(4), object(1)\n",
      "memory usage: 5.9+ KB\n"
     ]
    }
   ],
   "source": [
    "# explore dataset\n",
    "data.info()"
   ]
  },
  {
   "cell_type": "code",
   "execution_count": 4,
   "metadata": {},
   "outputs": [],
   "source": [
    "# partition dataset into training and test sets\n",
    "x_train, x_test, y_train, y_test = train_test_split(data[['sepal_length', 'sepal_width', 'petal_length', 'petal_width']],\\\n",
    "                                                    data['species'], test_size=0.25, random_state = 1)"
   ]
  },
  {
   "cell_type": "code",
   "execution_count": 5,
   "metadata": {},
   "outputs": [],
   "source": [
    "# standardize data\n",
    "scaler = StandardScaler()\n",
    "scaler.fit(x_train)\n",
    "x_train = scaler.transform(x_train) \n",
    "x_test = scaler.transform(x_test)"
   ]
  },
  {
   "cell_type": "code",
   "execution_count": 6,
   "metadata": {},
   "outputs": [
    {
     "data": {
      "text/plain": [
       "KNeighborsClassifier(algorithm='auto', leaf_size=30, metric='minkowski',\n",
       "           metric_params=None, n_jobs=None, n_neighbors=3, p=2,\n",
       "           weights='uniform')"
      ]
     },
     "execution_count": 6,
     "metadata": {},
     "output_type": "execute_result"
    }
   ],
   "source": [
    "# CLASSIFIER: k-Nearest Neighbors\n",
    "# initialize k-nearest neighbors classifier\n",
    "classifier = KNeighborsClassifier(n_neighbors = 3)  \n",
    "classifier.fit(x_train, y_train)"
   ]
  },
  {
   "cell_type": "code",
   "execution_count": 7,
   "metadata": {},
   "outputs": [],
   "source": [
    "# predict class labels using k-nearest neighbors classifier\n",
    "y_pred = classifier.predict(x_test) "
   ]
  },
  {
   "cell_type": "code",
   "execution_count": 8,
   "metadata": {},
   "outputs": [
    {
     "name": "stdout",
     "output_type": "stream",
     "text": [
      "[[13  0  0]\n",
      " [ 0 16  0]\n",
      " [ 0  0  9]]\n"
     ]
    }
   ],
   "source": [
    "# compute confusion matrix\n",
    "conf_matrix = metrics.confusion_matrix(y_test, y_pred)\n",
    "print(conf_matrix)"
   ]
  },
  {
   "cell_type": "code",
   "execution_count": 9,
   "metadata": {},
   "outputs": [
    {
     "data": {
      "image/png": "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\n",
      "text/plain": [
       "<Figure size 432x288 with 2 Axes>"
      ]
     },
     "metadata": {},
     "output_type": "display_data"
    }
   ],
   "source": [
    "# plot confusion matrix\n",
    "sns.heatmap(conf_matrix, annot = True, fmt = \".3f\", square = True, cmap = plt.cm.Blues)\n",
    "plt.ylabel('Actual')\n",
    "plt.xlabel('Predicted')\n",
    "plt.title('Confusion matrix')\n",
    "plt.tight_layout()"
   ]
  },
  {
   "cell_type": "code",
   "execution_count": 10,
   "metadata": {},
   "outputs": [
    {
     "name": "stdout",
     "output_type": "stream",
     "text": [
      "1.0\n",
      "0.0\n",
      "[1. 1. 1.]\n",
      "[1. 1. 1.]\n",
      "[1. 1. 1.]\n"
     ]
    }
   ],
   "source": [
    "# compute evaluation metrics\n",
    "print(metrics.accuracy_score(y_test, y_pred)) # accuracy\n",
    "print(1 - metrics.accuracy_score(y_test, y_pred)) # error\n",
    "print(metrics.precision_score(y_test, y_pred, average = None)) # precision\n",
    "print(metrics.recall_score(y_test, y_pred, average = None)) # recall\n",
    "print(metrics.f1_score(y_test, y_pred, average = None)) # F1 score"
   ]
  },
  {
   "cell_type": "code",
   "execution_count": 11,
   "metadata": {},
   "outputs": [
    {
     "data": {
      "text/plain": [
       "GaussianNB(priors=None, var_smoothing=1e-09)"
      ]
     },
     "execution_count": 11,
     "metadata": {},
     "output_type": "execute_result"
    }
   ],
   "source": [
    "# CLASSIFIER: Naive Bayes\n",
    "# initialize Naive Bayes classifier\n",
    "classifier = GaussianNB()  \n",
    "classifier.fit(x_train, y_train)"
   ]
  },
  {
   "cell_type": "code",
   "execution_count": 12,
   "metadata": {},
   "outputs": [],
   "source": [
    "# predict class labels using Naive Bayes classifier\n",
    "y_pred = classifier.predict(x_test)"
   ]
  },
  {
   "cell_type": "code",
   "execution_count": 13,
   "metadata": {},
   "outputs": [
    {
     "name": "stdout",
     "output_type": "stream",
     "text": [
      "[[13  0  0]\n",
      " [ 0 15  1]\n",
      " [ 0  0  9]]\n"
     ]
    }
   ],
   "source": [
    "# compute confusion matrix\n",
    "conf_matrix = metrics.confusion_matrix(y_test, y_pred)\n",
    "print(conf_matrix)"
   ]
  },
  {
   "cell_type": "code",
   "execution_count": 14,
   "metadata": {},
   "outputs": [
    {
     "data": {
      "image/png": "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\n",
      "text/plain": [
       "<Figure size 432x288 with 2 Axes>"
      ]
     },
     "metadata": {},
     "output_type": "display_data"
    }
   ],
   "source": [
    "# plot confusion matrix\n",
    "sns.heatmap(conf_matrix, annot = True, fmt = \".3f\", square = True, cmap = plt.cm.Blues)\n",
    "plt.ylabel('Actual')\n",
    "plt.xlabel('Predicted')\n",
    "plt.title('Confusion matrix')\n",
    "plt.tight_layout()"
   ]
  },
  {
   "cell_type": "code",
   "execution_count": 15,
   "metadata": {},
   "outputs": [
    {
     "name": "stdout",
     "output_type": "stream",
     "text": [
      "0.9736842105263158\n",
      "0.02631578947368418\n",
      "[1.  1.  0.9]\n",
      "[1.     0.9375 1.    ]\n",
      "[1.         0.96774194 0.94736842]\n"
     ]
    }
   ],
   "source": [
    "# compute evaluation metrics\n",
    "print(metrics.accuracy_score(y_test, y_pred)) # accuracy\n",
    "print(1 - metrics.accuracy_score(y_test, y_pred)) # error\n",
    "print(metrics.precision_score(y_test, y_pred, average = None)) # precision\n",
    "print(metrics.recall_score(y_test, y_pred, average = None)) # recall\n",
    "print(metrics.f1_score(y_test, y_pred, average = None)) # F1 score"
   ]
  },
  {
   "cell_type": "code",
   "execution_count": 16,
   "metadata": {},
   "outputs": [
    {
     "data": {
      "text/plain": [
       "SVC(C=1.0, cache_size=200, class_weight=None, coef0=0.0,\n",
       "  decision_function_shape='ovr', degree=3, gamma='auto', kernel='linear',\n",
       "  max_iter=-1, probability=False, random_state=None, shrinking=True,\n",
       "  tol=0.001, verbose=False)"
      ]
     },
     "execution_count": 16,
     "metadata": {},
     "output_type": "execute_result"
    }
   ],
   "source": [
    "# CLASSIFIER: Linear SVM\n",
    "# initialize linear SVM classifier\n",
    "classifier = SVC(kernel = 'linear')  \n",
    "classifier.fit(x_train, y_train)"
   ]
  },
  {
   "cell_type": "code",
   "execution_count": 17,
   "metadata": {},
   "outputs": [],
   "source": [
    "# predict class labels using linear SVM classifier\n",
    "y_pred = classifier.predict(x_test)"
   ]
  },
  {
   "cell_type": "code",
   "execution_count": 18,
   "metadata": {},
   "outputs": [
    {
     "name": "stdout",
     "output_type": "stream",
     "text": [
      "[[13  0  0]\n",
      " [ 0 15  1]\n",
      " [ 0  0  9]]\n"
     ]
    }
   ],
   "source": [
    "# compute confusion matrix\n",
    "conf_matrix = metrics.confusion_matrix(y_test, y_pred)\n",
    "print(conf_matrix)"
   ]
  },
  {
   "cell_type": "code",
   "execution_count": 19,
   "metadata": {},
   "outputs": [
    {
     "data": {
      "image/png": "iVBORw0KGgoAAAANSUhEUgAAAUUAAAEYCAYAAADLZOR0AAAABHNCSVQICAgIfAhkiAAAAAlwSFlzAAALEgAACxIB0t1+/AAAADl0RVh0U29mdHdhcmUAbWF0cGxvdGxpYiB2ZXJzaW9uIDIuMi4yLCBodHRwOi8vbWF0cGxvdGxpYi5vcmcvhp/UCwAAIABJREFUeJzt3Xl8FdX9//HXh8SILAmUJWGJWgtqFRE33KosFoiALHVDaV2+tqjVfmtdfsWlblXrty7VuoPaWrVqrVJRELUKBREURBSsS9EqhOWGHQJoIHx+f9whTMJNchPnkgy+n33Mgztnzpz5zPTm45k5M3PN3RERkaQmDR2AiEhjoqQoIhKipCgiEqKkKCISoqQoIhKipCgiEqKkuIszsz3M7EUzW2tmz36Ddkaa2atRxtZQzOw4M/ukoeOQxsl0n2LjYGZnApcC+wPrgbnAze7+5jds9yfAL4Bj3H3LNw60kTMzB7q6+4KGjkXiST3FRsDMLgXuAm4B8oE9gfuBoRE0vxfw6bchIabDzLIbOgZp5NxdUwNOQB5QCpxaQ53dSSbNJcF0F7B7sKw3UAxcBpQAS4Fzg2U3AGXA5mAb5wHXA0+E2t4bcCA7mD8H+Jxkb/W/wMhQ+Zuh9Y4BZgFrg3+PCS2bAvwWmB608yrQtpp92xb//wvFPwwYCHwKrAKuCtXvCcwA1gR17wVygmVTg33ZEOzv6aH2fw0sAx7fVhas871gG4cG8x2BFUDvhv5uaGqYST3Fhnc00BQYV0Odq4GjgB7AwSQTwzWh5QUkk2snkonvPjNr7e7Xkex9PuPuLdz9kZoCMbPmwB+BE929JcnENzdFve8AE4K6bYA7gQlm1iZU7UzgXKA9kANcXsOmC0geg07AtcBY4MfAYcBxwLVmtk9Qtxz4FdCW5LE7Afg5gLsfH9Q5ONjfZ0Ltf4dkr3lUeMPu/hnJhPmkmTUD/gT82d2n1BCv7MKUFBteG2CF13x6OxK40d1L3H05yR7gT0LLNwfLN7v7RJK9pP3qGc9WoJuZ7eHuS939wxR1BgH/cffH3X2Luz8FfAycFKrzJ3f/1N03AX8jmdCrs5nk9dPNwNMkE97d7r4+2P6HQHcAd3/X3WcG2/0CeAjolcY+XefuXwfxVOLuY4H/AG8DHUj+R0i+pZQUG95KoG0t17o6Al+G5r8MyiraqJJUNwIt6hqIu28gecp5AbDUzCaY2f5pxLMtpk6h+WV1iGelu5cHn7clrURo+aZt65vZvmb2kpktM7N1JHvCbWtoG2C5u39VS52xQDfgHnf/upa6sgtTUmx4M4CvSF5Hq84Skqd+2+wZlNXHBqBZaL4gvNDdX3H3fiR7TB+TTBa1xbMtpsX1jKkuHiAZV1d3zwWuAqyWdWq8xcLMWpC8TvsIcH1weUC+pZQUG5i7ryV5He0+MxtmZs3MbDczO9HMfh9Uewq4xszamVnboP4T9dzkXOB4M9vTzPKAK7ctMLN8MxsSXFv8muRpeHmKNiYC+5rZmWaWbWanAwcAL9UzprpoCawDSoNe7IVVlieAfXZYq2Z3A++6+09JXit98BtHKbGlpNgIuPudJO9RvAZYDiwCLgb+EVS5CZgNfADMA+YEZfXZ1mvAM0Fb71I5kTUhOYq9hOSIbC+CQYwqbawEBgd1V5IcOR7s7ivqE1MdXU5yEGc9yV7sM1WWXw88ZmZrzOy02hozs6FAEclLBpD8/+FQMxsZWcQSK7p5W0QkRD1FEZEQJUURadTM7FEzKzGz+aGy681ssZnNDaaB1axbZGafmNkCMxud1vZ0+iwijZmZHU9y0O8v7t4tKLseKHX322tYL4vkU1H9SD7VNAs4w93/XdP21FMUkUbN3aeSHPirq57AAnf/3N3LSD4YUOv7BBrtw/HNT/mTurC1WPn0uQ0dguwimmbXeq9nnexxyMVp//1+Nfe+86n8+OUYdx+TxqoXm9lZJO/MuMzdV1dZ3onknRzbFANH1taoeooi0qDcfYy7Hx6a0kmID5B8mUcPki8GuSNFnVSJvtZk3Wh7iiISY5bZ/pa7VzwGamZjSf3gQDFQGJrvTBpPgqmnKCLRa5KV/lQPZtYhNDscmJ+i2iygq5l918xygBHA+NraVk9RRKJn0V2iNLOnSL4Ds62ZFQPXAb3NrAfJ0+EvgPODuh2Bh919oLtvMbOLgVeALODRat76VImSoohEL8LTZ3c/I0VxyneDuvsSki8o3jY/keSz+mlTUhSR6EXYU9zZlBRFJHoZHmjJJCVFEYmeeooiIiH1HFVuDJQURSR6On0WEQnR6bOISIh6iiIiIUqKIiIhTXT6LCKynUafRURCdPosIhKi0WcRkRD1FEVEQtRTFBEJUU9RRCREo88iIiE6fRYRCdHps4hIiJKiiEiITp9FRELUUxQRCdHos4hIiE6fRUS2MyVFEZHtlBRFRMLimxOVFEUkenHuKcZ33LweHvj5sXzxyAhm3Tmsouw3Iw7h7TuGMuO2IYz/TX8KWu+Rct2Rvbrw/j0n8/49JzOyV5eK8h77tOGdO4bxwT0nc9v/HFlR3rpFDi/+pj/v33MyL/6mP62a52RuxzJk+rSpDBk0gMFF/Xhk7JgdlpeVlXHFZZcwuKgfI0ecyuLFxRXLHhn7EIOL+jFk0ACmvzkt7TbjSMdpR02aNEl7amwaX0QZ9MTkBQy76bVKZXe9MJ8jL3uBo68Yz8vvLuLKU3vssF7rFjlceVoPel/5Ir1Gv8iVp/WoSHJ3/+xoLn5oOt1/8RxdOuTS/5BOAFw2rDtT5i3l4F88x5R5S7lsePfM72CEysvLueXmG7n/wYcZN34Ckya+xGcLFlSqM+65Z8nNzeWlSa/x47PO4a47bwfgswULmDRxAs+Pn8D9Dz3MLTfdQHl5eVptxo2OU2pmlvaURluPmlmJmc0Pld1mZh+b2QdmNs7MWlWz7hdmNs/M5prZ7HRiz1hSNLP9zezXZvZHM7s7+Pz9TG0vHdM/SrCq9OtKZes3ba743Hz3bNx3XO+HB3fijfeXsLq0jDUbynjj/SX069GJglZ70LLZbrzz6XIA/jplAYOP2AuAQUfsyZNTkl/kJ6csYPARe2ZorzJj/rwPKCzci86FheyWk0PRwEFMmfx6pTqT33iDIUOHA9Cv/wDemTkDd2fK5NcpGjiInJwcOncupLBwL+bP+yCtNuNGx6kaVoepdn8GiqqUvQZ0c/fuwKfAlTWs38fde7j74elsLCNJ0cx+DTxNcpffAWYFn58ys9GZ2OY3cd0Zh/LJg6dx+nHf46Zn5uywvGOb5hSv3FAxv3jVBjq2aU6HNs1YsnJjqHwjHds0A6B9q6YsW7MJgGVrNtEur2mG9yJaJYkEBR0KKubb5+eTSCQq1ylJUFDQAYDs7GxatGzJmjWrSSQS5BdsXze/IJ+SRCKtNuNGxym1KHuK7j4VWFWl7FV33xLMzgQ6RxV7pnqK5wFHuPut7v5EMN0K9AyWpWRmo8xstpnN3vL5lAyFtqMbnprDfhf8jWemfcb5RTt2ZlP93+buWIolnqqrGUPOjvtR9Qucal/NjFTdbTNLq8240XFKrS5JMfx3H0yj6ri5/wFermaZA6+a2bvptpuppLgV6JiivEOwLCV3H+Puh7v74dn79M5QaNV7ZtrnDDtq7x3KF6/cQOc2zSvmO32nOUtXbWTJyg0VPcNkeTOWrkr2DkvWfEVBq+SgTUGrPVi+9qvMBh+x/PwCli1dVjFfkkjQvn37HessWwrAli1bKF2/nry8VuQXFJBYtn3dxLIE7dq3T6vNuNFxSq0uSTH8dx9MaY8smdnVwBbgyWqqHOvuhwInAheZ2fG1tZmppHgJ8LqZvWxmY4JpEvA68MsMbbNevleQW/F50BF78snitTvU+ef7iznh4I60ap5Dq+Y5nHBwR/75/mKWrdlE6abNHNG1HQBn9u7ChFkLAZg4eyEjeydHqUeGyuPiwG4HsXDhFxQXL2JzWRmTJk6gV5++ler07tOX8S+MA+C1V1+h55FHYWb06tOXSRMnUFZWRnHxIhYu/IJuB3VPq8240XFKzZpY2lO9t2F2NjAYGOnVnKK5+5Lg3xJgHMmz1Rpl5D5Fd59kZvsGAXQieQZaDMxy9/JMbDMdf76kF8cdWECblk359KHTuOmZ9xhwaGf27ZjHVncWLi/lf8fMAOCQ77Xhp/3256IHp7O6tIz/e+59pt56EgC3/n0uq0vLAPjl2BmMueg4muZk8ep7i3nlveTtFneMm8fjl/XmrBP2pXhFKT++Y3LD7HQ9ZWdnc+XV13LhqJ+ydWs5w4afTJcuXbnvnrs58MBu9O57AsNPPoWrR1/B4KJ+5Obl8fvb/wBAly5d6V90IsOHDCQrK4urrrmWrKzkCwJStRlnOk6pZfp038yKgF8Dvdx9YzV1mgNN3H198Lk/cGOtbTfWa2DNT/lT4wysEVn59LkNHYLsIppmR/sMSrtzn0n773f5n06vcdtm9hTQG2gLJIDrSI427w6sDKrNdPcLzKwj8LC7DzSzfUj2DiHZAfyru99cWzx6okVEIhdlT9Hdz0hR/Eg1dZcAA4PPnwMH13V7SooiEr14DZZXoqQoIpGL2y1EYUqKIhK5xvhMc7qUFEUkcuopioiExTcnKimKSPTUUxQRCVFSFBEJUVIUEQn5Js80NzQlRRGJnHqKIiIhSooiIiFKiiIiYfHNiUqKIhI99RRFREKaaPRZRGQ79RRFREJinBOVFEUkeuopioiExDgnKimKSPQ00CIiEqKkKCISotNnEZEQDbSIiIQoKYqIhMQ4Jyopikj01FMUEQmJ8+hzfH+xWkQaLbP0p9rbskfNrMTM5ofKvmNmr5nZf4J/W1ez7tlBnf+Y2dnpxK6kKCKRM7O0pzT8GSiqUjYaeN3duwKvB/NVY/gOcB1wJNATuK665BmmpCgikYuyp+juU4FVVYqHAo8Fnx8DhqVYdQDwmruvcvfVwGvsmFx30GivKa58+tyGDqHRa33ExQ0dQqO3cOpdDR1CLDRtGW0q2AkDLfnuvhTA3ZeaWfsUdToBi0LzxUFZjdRTFJHI1aWnaGajzGx2aBoVVRgpyry2lRptT1FE4qsuo8/uPgYYU8dNJMysQ9BL7ACUpKhTDPQOzXcGptTWsHqKIhK5iAdaUhkPbBtNPht4IUWdV4D+ZtY6GGDpH5TVSElRRCIX8S05TwEzgP3MrNjMzgNuBfqZ2X+AfsE8Zna4mT0M4O6rgN8Cs4LpxqCsRjp9FpHIRTnQ4u5nVLPohBR1ZwM/Dc0/Cjxal+0pKYpI5PSYn4hISIxzopKiiEQvzs8+KymKSOR0+iwiEhLjnKikKCLRaxLjrKikKCKRi3FOVFIUkejpmqKISEiWRp9FRLaLcUdRSVFEomcp39oVD0qKIhK5GJ89KymKSPQ00CIiEhLjnKikKCLR0+iziEiITp9FREJinBOVFEUkenr2WUQkJL4psYakaGYvUsNvpLr7kIxEJCKxt6teU7x9p0UhIruUXXL02d3/tTMDEZFdR4w7irVfUzSzrsDvgAOAptvK3X2fDMYlIjEW59PnJmnU+RPwALAF6AP8BXg8k0GJSLw1sfSnxiadpLiHu78OmLt/6e7XA30zG5aIxJmZpT01NunckvOVmTUB/mNmFwOLgfaZDUtE4qzxpbr0pZMULwGaAf8L/JZkL/HsTAYlIvEW59HnWk+f3X2Wu5e6e7G7n+vuP3L3mTsjuEyaPm0qQwYNYHBRPx4ZO2aH5WVlZVxx2SUMLurHyBGnsnhxccWyR8Y+xOCifgwZNIDpb05Lu804ePC6kXz5+u+Y/exVFWVXnz+Qz165iZlPj2bm06MZ8IMDUq7b75jv8/643zD/heu4/Nx+FeV7dWzD1L9czrwXruXxW89lt+wsAHJ2y+bxW89l/gvXMfUvl7Nnh+9kducy4JYbrmFwv+P4yWlDUy53d+667RZOH1bE2SOG88nH/65Y9vJL/2DE8BMZMfxEXn7pHxXlH3/0IWedPozThxVx12234F7t7cKNVpxPn2tNimY22czeqDrtjOAypby8nFtuvpH7H3yYceMnMGniS3y2YEGlOuOee5bc3FxemvQaPz7rHO66M3nb5mcLFjBp4gSeHz+B+x96mFtuuoHy8vK02oyDx1+cydCL7tuh/J4nJnPUiFs5asStvPLmv3dY3qSJcdfo0xh68f0ccvJNnFp0GPvvUwDAzb8cyj1PTuagoTeyev0mzhl+NADnDDua1es30W3oDdzz5GRu/mXqxNKYDTxpGHfc81C1y2dOn8aiRV/y9LiXueLq67n9dzcCsG7tGh4d+wBj/vwUYx57mkfHPsC6dWsBuON3N/L/rr6ep8e9zKJFXzLzrTd3yr5EySz9qfa2bD8zmxua1pnZJVXq9DaztaE619Y39nQGWi4Hrgim3wBzgdn13WBjMH/eBxQW7kXnwkJ2y8mhaOAgpkx+vVKdyW+8wZChwwHo138A78ycgbszZfLrFA0cRE5ODp07F1JYuBfz532QVptxMH3OZ6xau7HO6x3RbW8+W7SCLxavZPOWcp59ZQ6De3cHoNcR+/L8P98D4MkX3+ak3gcDMLh3d5588W0Anv/ne/TuuV9Ee7Hz9Dj0cHJz86pdPu1fb1A0cAhmRreDDqZ0/XpWrFjO2zOmc0TPo8nNa0Vubh5H9Dyat996kxUrlrNhwwa6de+BmVE0cAjTpsTve9TELO2pNu7+ibv3cPcewGHARmBciqrTttVz9xvrHXsaAb0bmqa7+6XAkfXdoJmdW991o1KSSFDQoaBivn1+PolEonKdkgQFBR0AyM7OpkXLlqxZs5pEIkF+wfZ18wvyKUkk0mozzi4YcTzvPHMlD143klYt99hhecf2eRQnVlfML06splO7PNq0as7a9ZsoL99aUd6xfd72dZYl1ykv38q60k20adV8J+zNzrNieQntCyp/L1aUJFi+vIT2+ZXLly8vYUVJgnb5+aHyAlYsL9mpMUchyp5iFScAn7n7l9FHnZTO6fN3QlNbMxsAFNS2Xg1uqGFbo8xstpnNzuQ1OU/xSHfVaxupruOYGVRTnk6bcTX22WkccNL1HDniVpatWMetl/5ohzqpfqjISX0Mth3CmpbtKlJeD6zpe5SyfgYCy7C6XFMM/90H06gamh4BPFXNsqPN7H0ze9nMDqxv7OmMPr9L8P0meQP3f4HzalrBzD6obhGQX80y3H0MMAbgqy3Vv4zim8rPL2DZ0mUV8yWJBO3bt9+xzrKl5BcUsGXLFkrXrycvrxX5BQUklm1fN7EsQbtg3drajKuSVesrPj/6/HSe/+MFO9RZXLKGzvmtK+Y75bdmyfK1rFhdSl7LPcjKakJ5+VY65bdm6fLktbPFiTV0LmjN4pI1ZGU1IbfFHqxauyHzO7QTtWufT8myyt+Ltu3a0659Pu+9O6tS+SGHHUG7/AKWh84wShLLaNs2ft+jrDp0CMJ/9zUxsxxgCHBlisVzgL3cvdTMBgL/ALqmHURIOtcUv+/u+7j7d929q7v3B2bVsk4+cBZwUoppZX0CjdKB3Q5i4cIvKC5exOayMiZNnECvPpXvR+/dpy/jX0hetnjt1VfoeeRRmBm9+vRl0sQJlJWVUVy8iIULv6DbQd3TajOuCtrmVnwe2vdg/v3Z0h3qzP7wS7rs2Y69OrZht+wsTh1wKBOmJP/bOHX2p/zoh4cAMPKkI3kpKJ/wr3mMPCl5JeZHPzyEf836NNO7stP9oFcfJk0cj7szf977tGjRgrZt23Hk0ccy6+23WLduLevWrWXW229x5NHH0rZtO5o1b8b8ee/j7kyaOJ7jesXve5ShJ1pOBOa4+w7Xpdx9nbuXBp8nAruZWdv6xJ5OT/Et4NAqZTNSlIW9BLRw97lVF5jZlLSjy5Ds7GyuvPpaLhz1U7ZuLWfY8JPp0qUr991zNwce2I3efU9g+MmncPXoKxhc1I/cvDx+f/sfAOjSpSv9i05k+JCBZGVlcdU115KVlbzFJFWbcfPY787huMO60rZVCxZM+i2/fXAixx/Wle77dcbd+XLpKn5xU/LspUO7PO6/9kyG/+IBysu38qv/+xsv3n8RWU2Mx16YyUefJ3tIV9/9Ao/fei7X/Xww73+yiD//YwYAf/7HWzx601nMf+E6Vq/bwE9G/6nB9ru+rrvqcua+O4s1a9YwfGBfzht1EVu2bAFg2Cmnc/SxxzNj+lROH3YiTZs25arrbgIgN68VZ593AT8763QAzvnpheTmtQLg8tHXcvP1V/P1119z1DE/4Khjj2uYnfsGMnSb4hlUc+psZgVAwt3dzHqS7PDVqwNm1d0DFWykE/AEcCbbr2zkAg+6+/712WC6Mnn6vKtofcTFDR1Co7dw6l0NHUIstGuZHWkau+zFT9L++73jpP1q3baZNQMWAfu4+9qg7AIAd38weNruQpKX+DYBl7r7W/WJvaae4gDgHKAzcAfbk+I64Kpq1hERibyn6O4bgTZVyh4Mfb4XuDeKbdX0PsXHgMfM7GR3fy6KjYnIt0Ocb7xIZ6DlMDNrtW3GzFqb2U0ZjElEYi7bLO2psUknKZ7o7mu2zbj7amBg5kISkbjL4M3bGZfO6HOWme3u7l8DmNkewO6ZDUtE4mxX/4nTJ4DXzWzb/RLnAo9lLiQRibsY58Tak6K7/z54QuWHJEegJwF7ZTowEYmvGL9OMa2eIsAyYCtwGsnH/DQaLSLV2iVPn81sX5IPX59B8s7wZ0je7N1nJ8UmIjGVlc4QbiNVU0/xY2AacJK7LwAws1/tlKhEJNZSvTUpLmrK5yeTPG2ebGZjzewEYvkSIxHZ2XbJnzh193HufjqwPzAF+BWQb2YPmFn/nRSfiMTQLpkUt3H3De7+pLsPJvkc9FxgdMYjE5HY2qV/uCrM3Ve5+0PuHr8XvInIThPnnmK6t+SIiKQtzr/7rKQoIpGLcU5UUhSR6DXCS4VpU1IUkcg1ifHde0qKIhI59RRFREJ0TVFEJESjzyIiIbvkW3JEROorxjlRSVFEohfjN4cpKYpI9BrjM83pUlIUkcjFNyUqKYpIBmSppygisl2Mc6KSoohEL+primb2BbAeKAe2uPvhVZYbcDcwENgInOPuc+qzLSVFEYlchkaf+7j7imqWnQh0DaYjgQeCf+tMSVFEItcAo89Dgb+4uwMzzayVmXVw96V1bUhJMcZWz7q3oUNo9E5+5J2GDiEWJpzfM9L2MpASHXjVzBx4yN3HVFneCVgUmi8OypQURaTh1WX02cxGAaNCRWNSJL1j3X2JmbUHXjOzj919ariZFE172kGEKCmKSOTqcvocJMCqSbBqnSXBvyVmNg7oCYSTYjFQGJrvDCxJO4iQOD+NIyKNlNVhqrUts+Zm1nLbZ6A/ML9KtfHAWZZ0FLC2PtcTQT1FEcmAiMdZ8oFxQe8zG/iru08yswsA3P1BYCLJ23EWkLwl59z6bkxJUUQiF+XPEbj758DBKcofDH124KIotqekKCKR0xMtIiIhesmsiEiIfs1PRCQkxh1FJUURiZ6SoohIiOn0WURkuxj/wqmSoohET6PPIiIhOn0WEQnR6bOISIh6iiIiITG+pKikKCLRi3FOVFIUkejpd59FRMLimxOVFEUkehpoEREJifHZs5KiiEQvxjlRSVFEMiDGWVFJUUQip2efRURC4psSlRRFJBNinBWVFEUkcrolR0QkJMaXFJUURSR6Mc6JSooiEj2LcVdRSVFEIhfjnEiThg6goUyfNpUhgwYwuKgfj4wds8PysrIyrrjsEgYX9WPkiFNZvLi4YtkjYx9icFE/hgwawPQ3p6XdZtzoGNVuSLd87ju1G/ef2o2hB+WnrHP+MXsydkR37j2lG99r26yi/IR92zJmRHfGjOjOCfu2rSjv0rYZ953SjbEjunP+MXtmfB8yweowNTbfyqRYXl7OLTffyP0PPsy48ROYNPElPluwoFKdcc89S25uLi9Neo0fn3UOd915OwCfLVjApIkTeH78BO5/6GFuuekGysvL02ozTnSMardX6z0Y8P12XDru31z89/n03LMVHXN3r1Tn8MI8OuY15WdPf8A9U//LRT/YG4AWu2dx5mEduXTch1z6/IeceVhHWuRkAfDz4/bmnmlf8LOnP6BjXlMOK8zb2bv2zUWYFc2s0Mwmm9lHZvahmf0yRZ3eZrbWzOYG07X1DT1jSdHM9jezE8ysRZXyokxtM13z531AYeFedC4sZLecHIoGDmLK5Ncr1Zn8xhsMGTocgH79B/DOzBm4O1Mmv07RwEHk5OTQuXMhhYV7MX/eB2m1GSc6RrUrbN2UTxKlfL1lK1sd5i1dz9HfbV2pzlF7t+aNT1cA8EnJBprvnkXrZrtxWOc83iteR+nX5ZSWlfNe8ToOK8yjdbPdaLZbFh8nSgF449MVHL136x223dhZHf6Xhi3AZe7+feAo4CIzOyBFvWnu3iOYbqxv7BlJimb2v8ALwC+A+WY2NLT4lkxssy5KEgkKOhRUzLfPzyeRSFSuU5KgoKADANnZ2bRo2ZI1a1aTSCTIL9i+bn5BPiWJRFptxomOUe2+XLWJbh1yabl7NrtnN+HwPVvRrkXlnmKb5jks31BWMb9iQxltmuUky0urlDfPoU2zHFZWrd88J/M7EzGz9KfauPtSd58TfF4PfAR0ylTsmeop/gw4zN2HAb2B34S6vNUeBjMbZWazzWx2Jq83OZ5q25XreDV1qilPp8040TGq3aI1X/H3uUu4adB+3DhwX/67ciPlWyvvY+q985QLnNRJItVxa+zqkhTDf/fBNKr6dm1v4BDg7RSLjzaz983sZTM7sL6xZ2r0OcvdSwHc/Qsz6w383cz2ooak6O5jgDEAX23J3DchP7+AZUuXVcyXJBK0b99+xzrLlpJfUMCWLVsoXb+evLxW5BcUkFi2fd3EsgTtgnVrazNOdIzS8+onK3j1k+Tp8Vk9O7My1PuDZE+vXain17Z5Dis3bmZlaRkHdcytVD5vybodeoZtm+ewasPmDO9F9OryREv4777GNpOX4p4DLnH3dVUWzwH2cvdSMxsI/APomn7E22Wqp7jMzHpsmwkS5GCgLXDsJl3tAAAHj0lEQVRQhraZtgO7HcTChV9QXLyIzWVlTJo4gV59+laq07tPX8a/MA6A1159hZ5HHoWZ0atPXyZNnEBZWRnFxYtYuPALuh3UPa0240THKD15TZP9inYtcjhm79b8a8HKSsvf/nI1fYOR5f3aN2dDWTmrN27m3eK1HNI5jxY5WbTIyeKQznm8W7yW1Rs3s2lzOfu1bw5A333bMvOL1Tt3pyIQ5elzsj3bjWRCfNLdn6+63N3XhTpiE4HdzKxt1XrpyFRP8SySF0cruPsW4CwzeyhD20xbdnY2V159LReO+ilbt5YzbPjJdOnSlfvuuZsDD+xG774nMPzkU7h69BUMLupHbl4ev7/9DwB06dKV/kUnMnzIQLKysrjqmmvJykqOGqZqM650jNJzVf+u5DbNZstW54HpX1JaVs6J328HwMsfLWfWwrUcvmcrHh7Rna+3bOUPU/4LQOnX5Tw9ZzF/+FHyLO+pOYsp/bocgPumfcmv+nyX3bOaMHvRWmYvWtswO/cNRHlRxJLXWB4BPnL3O6upUwAk3N3NrCfJDt/KVHVr3V6q60KNQSZPn+Xb4+RH3mnoEGJhwvk9I724+2liY9p/v/vmN6tx22b2A2AaMA/YGhRfBewJ4O4PmtnFwIUkO2ObgEvd/a16hK4nWkQkelG+Jcfd36SWzqe73wvcG8X2lBRFJHJN4ntTgZKiiGSAkqKIyHZ6yayISEiM78lXUhSR6MU4JyopikgGxDgrKimKSOT0u88iIiHxTYlKiiKSATHuKCopikgmxDcrKimKSOTUUxQRCYlxTlRSFJHoafRZRCQsvjlRSVFEohfjnKikKCLRi/HZs5KiiERPb8kREQmLb05UUhSR6OnN2yIiITp9FhEJifNAS5OGDkBEpDFRT1FEIhfnnqKSoohETtcURURCNPosIhKmpCgisp1On0VEQuI80KJbckQkclaHKa32zIrM7BMzW2Bmo1Ms393MngmWv21me9c3diVFEYlehFnRzLKA+4ATgQOAM8zsgCrVzgNWu3sX4A/A/9U3dCVFEYlcE7O0pzT0BBa4++fuXgY8DQytUmco8Fjw+e/ACWb1O4lvtNcUm2Y3viu1ZjbK3cc0dByNWWM7RhPO79nQIeygsR2jTKjL36+ZjQJGhYrGVDk+nYBFofli4MgqzVTUcfctZrYWaAOsqEvcoJ5iXY2qvcq3no5R7XSMQtx9jLsfHpqq/gcjVYL1etRJi5KiiDR2xUBhaL4zsKS6OmaWDeQBq+qzMSVFEWnsZgFdzey7ZpYDjADGV6kzHjg7+HwK8Ia716un2GivKTZSu/R1oIjoGNVOx6gOgmuEFwOvAFnAo+7+oZndCMx29/HAI8DjZraAZA9xRH23Z/VMpiIiuySdPouIhCgpioiEKCmmobZHjATM7FEzKzGz+Q0dS2NlZoVmNtnMPjKzD83slw0dk+xI1xRrETxi9CnQj+Sw/yzgDHf/d4MG1siY2fFAKfAXd+/W0PE0RmbWAejg7nPMrCXwLjBM36XGRT3F2qXziNG3nrtPpZ73hX1buPtSd58TfF4PfETySQxpRJQUa5fqESN9keUbCd7icgjwdsNGIlUpKdYusseHRADMrAXwHHCJu69r6HikMiXF2qXziJFIWsxsN5IJ8Ul3f76h45EdKSnWLp1HjERqFbzK6hHgI3e/s6HjkdSUFGvh7luAbY8YfQT8zd0/bNioGh8zewqYAexnZsVmdl5Dx9QIHQv8BOhrZnODaWBDByWV6ZYcEZEQ9RRFREKUFEVEQpQURURClBRFREKUFEVEQpQUv4XMrDy4HWS+mT1rZs2+QVu9zeyl4POQmt4iZGatzOzn9djG9WZ2eX1jFKkLJcVvp03u3iN4m00ZcEF4oSXV+bvh7uPd/dYaqrQC6pwURXYmJUWZBnQxs72D9/zdD8wBCs2sv5nNMLM5QY+yBVS8X/JjM3sT+NG2hszsHDO7N/icb2bjzOz9YDoGuBX4XtBLvS2od4WZzTKzD8zshlBbVwfvsPwnsN9OOxryraek+C0W/BTkicC8oGg/ku9DPATYAFwD/NDdDwVmA5eaWVNgLHAScBxQUE3zfwT+5e4HA4cCHwKjgc+CXuoVZtYf6Ery9Ww9gMPM7HgzO4zk45SHkEy6R0S86yLV0q/5fTvtYWZzg8/TSD6P2xH40t1nBuVHAQcA05OP7JJD8jG+/YH/uvt/AMzsCVL/uHtf4CwAdy8H1ppZ6yp1+gfTe8F8C5JJsiUwzt03BtvQs+ay0ygpfjttcvce4YIg8W0IFwGvufsZVer1ILpXpxnwO3d/qMo2LolwGyJ1otNnqc5M4Fgz6wJgZs3MbF/gY+C7Zva9oN4Z1az/OnBhsG6WmeUC60n2Ard5Bfif0LXKTmbWHpgKDDezPYLX9p8U8b6JVEtJUVJy9+XAOcBTZvYBySS5v7t/RfJ0eUIw0PJlNU38EuhjZvNI/hbJge6+kuTp+Hwzu83dXwX+CswI6v0daBm8sv8ZYC7Jdw9Oy9iOilSht+SIiISopygiEqKkKCISoqQoIhKipCgiEqKkKCISoqQoIhKipCgiEvL/AUI+dBZurpboAAAAAElFTkSuQmCC\n",
      "text/plain": [
       "<Figure size 432x288 with 2 Axes>"
      ]
     },
     "metadata": {},
     "output_type": "display_data"
    }
   ],
   "source": [
    "# plot confusion matrix\n",
    "sns.heatmap(conf_matrix, annot = True, fmt = \".3f\", square = True, cmap = plt.cm.Blues)\n",
    "plt.ylabel('Actual')\n",
    "plt.xlabel('Predicted')\n",
    "plt.title('Confusion matrix')\n",
    "plt.tight_layout()"
   ]
  },
  {
   "cell_type": "code",
   "execution_count": 20,
   "metadata": {},
   "outputs": [
    {
     "name": "stdout",
     "output_type": "stream",
     "text": [
      "0.9736842105263158\n",
      "0.02631578947368418\n",
      "[1.  1.  0.9]\n",
      "[1.     0.9375 1.    ]\n",
      "[1.         0.96774194 0.94736842]\n"
     ]
    }
   ],
   "source": [
    "# compute evaluation metrics\n",
    "print(metrics.accuracy_score(y_test, y_pred)) # accuracy\n",
    "print(1 - metrics.accuracy_score(y_test, y_pred)) # error\n",
    "print(metrics.precision_score(y_test, y_pred, average = None)) # precision\n",
    "print(metrics.recall_score(y_test, y_pred, average = None)) # recall\n",
    "print(metrics.f1_score(y_test, y_pred, average = None)) # F1 score"
   ]
  },
  {
   "cell_type": "code",
   "execution_count": 21,
   "metadata": {},
   "outputs": [
    {
     "data": {
      "text/plain": [
       "SVC(C=1.0, cache_size=200, class_weight=None, coef0=0.0,\n",
       "  decision_function_shape='ovr', degree=3, gamma='auto', kernel='poly',\n",
       "  max_iter=-1, probability=False, random_state=None, shrinking=True,\n",
       "  tol=0.001, verbose=False)"
      ]
     },
     "execution_count": 21,
     "metadata": {},
     "output_type": "execute_result"
    }
   ],
   "source": [
    "# CLASSIFIER: Kernel SVM\n",
    "# initialize kernel SVM classifier\n",
    "classifier = SVC(kernel = 'poly') \n",
    "classifier.fit(x_train, y_train)"
   ]
  },
  {
   "cell_type": "code",
   "execution_count": 22,
   "metadata": {},
   "outputs": [],
   "source": [
    "# predict class labels using kernel SVM classifier\n",
    "y_pred = classifier.predict(x_test)"
   ]
  },
  {
   "cell_type": "code",
   "execution_count": 23,
   "metadata": {},
   "outputs": [
    {
     "name": "stdout",
     "output_type": "stream",
     "text": [
      "[[13  0  0]\n",
      " [ 0 16  0]\n",
      " [ 0  0  9]]\n"
     ]
    }
   ],
   "source": [
    "# compute confusion matrix\n",
    "conf_matrix = metrics.confusion_matrix(y_test, y_pred)\n",
    "print(conf_matrix)"
   ]
  },
  {
   "cell_type": "code",
   "execution_count": 24,
   "metadata": {},
   "outputs": [
    {
     "data": {
      "image/png": "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\n",
      "text/plain": [
       "<Figure size 432x288 with 2 Axes>"
      ]
     },
     "metadata": {},
     "output_type": "display_data"
    }
   ],
   "source": [
    "# plot confusion matrix\n",
    "sns.heatmap(conf_matrix, annot = True, fmt = \".3f\", square = True, cmap = plt.cm.Blues)\n",
    "plt.ylabel('Actual')\n",
    "plt.xlabel('Predicted')\n",
    "plt.title('Confusion matrix')\n",
    "plt.tight_layout()"
   ]
  },
  {
   "cell_type": "code",
   "execution_count": 25,
   "metadata": {},
   "outputs": [
    {
     "name": "stdout",
     "output_type": "stream",
     "text": [
      "1.0\n",
      "0.0\n",
      "[1. 1. 1.]\n",
      "[1. 1. 1.]\n",
      "[1. 1. 1.]\n"
     ]
    }
   ],
   "source": [
    "# compute evaluation metrics\n",
    "print(metrics.accuracy_score(y_test, y_pred)) # accuracy\n",
    "print(1 - metrics.accuracy_score(y_test, y_pred)) # error\n",
    "print(metrics.precision_score(y_test, y_pred, average = None)) # precision\n",
    "print(metrics.recall_score(y_test, y_pred, average = None)) # recall\n",
    "print(metrics.f1_score(y_test, y_pred, average = None)) # F1 score"
   ]
  },
  {
   "cell_type": "code",
   "execution_count": 26,
   "metadata": {},
   "outputs": [
    {
     "data": {
      "text/plain": [
       "LogisticRegression(C=1.0, class_weight=None, dual=False, fit_intercept=True,\n",
       "          intercept_scaling=1, max_iter=100, multi_class='ovr', n_jobs=1,\n",
       "          penalty='l2', random_state=None, solver='liblinear', tol=0.0001,\n",
       "          verbose=0, warm_start=False)"
      ]
     },
     "execution_count": 26,
     "metadata": {},
     "output_type": "execute_result"
    }
   ],
   "source": [
    "# CLASSIFIER: Logistic Regression\n",
    "# initialize logistic regression classifier\n",
    "classifier = LogisticRegression() \n",
    "classifier.fit(x_train, y_train)"
   ]
  },
  {
   "cell_type": "code",
   "execution_count": 27,
   "metadata": {},
   "outputs": [],
   "source": [
    "# predict class labels using logistic regression classifier\n",
    "y_pred = classifier.predict(x_test)"
   ]
  },
  {
   "cell_type": "code",
   "execution_count": 28,
   "metadata": {},
   "outputs": [
    {
     "name": "stdout",
     "output_type": "stream",
     "text": [
      "[[13  0  0]\n",
      " [ 0  9  7]\n",
      " [ 0  0  9]]\n"
     ]
    }
   ],
   "source": [
    "# compute confusion matrix\n",
    "conf_matrix = metrics.confusion_matrix(y_test, y_pred)\n",
    "print(conf_matrix)"
   ]
  },
  {
   "cell_type": "code",
   "execution_count": 29,
   "metadata": {},
   "outputs": [
    {
     "data": {
      "image/png": "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\n",
      "text/plain": [
       "<Figure size 432x288 with 2 Axes>"
      ]
     },
     "metadata": {},
     "output_type": "display_data"
    }
   ],
   "source": [
    "# plot confusion matrix\n",
    "sns.heatmap(conf_matrix, annot = True, fmt = \".3f\", square = True, cmap = plt.cm.Blues)\n",
    "plt.ylabel('Actual')\n",
    "plt.xlabel('Predicted')\n",
    "plt.title('Confusion matrix')\n",
    "plt.tight_layout()"
   ]
  },
  {
   "cell_type": "code",
   "execution_count": 30,
   "metadata": {},
   "outputs": [
    {
     "name": "stdout",
     "output_type": "stream",
     "text": [
      "0.8157894736842105\n",
      "0.1842105263157895\n",
      "[1.     1.     0.5625]\n",
      "[1.     0.5625 1.    ]\n",
      "[1.   0.72 0.72]\n"
     ]
    }
   ],
   "source": [
    "# compute evaluation metrics\n",
    "print(metrics.accuracy_score(y_test, y_pred)) # accuracy\n",
    "print(1 - metrics.accuracy_score(y_test, y_pred)) # error\n",
    "print(metrics.precision_score(y_test, y_pred, average = None)) # precision\n",
    "print(metrics.recall_score(y_test, y_pred, average = None)) # recall\n",
    "print(metrics.f1_score(y_test, y_pred, average = None)) # F1 score"
   ]
  }
 ],
 "metadata": {
  "kernelspec": {
   "display_name": "Python 3",
   "language": "python",
   "name": "python3"
  },
  "language_info": {
   "codemirror_mode": {
    "name": "ipython",
    "version": 3
   },
   "file_extension": ".py",
   "mimetype": "text/x-python",
   "name": "python",
   "nbconvert_exporter": "python",
   "pygments_lexer": "ipython3",
<<<<<<< HEAD
   "version": "3.6.6"
=======
   "version": "3.5.2"
>>>>>>> 3865e18dc71edb6f5040b6052a8306a01a91f33c
  }
 },
 "nbformat": 4,
 "nbformat_minor": 2
}

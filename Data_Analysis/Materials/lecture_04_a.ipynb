{
 "cells": [
  {
   "cell_type": "code",
   "execution_count": 1,
   "metadata": {},
   "outputs": [
    {
     "name": "stdout",
     "output_type": "stream",
     "text": [
      "    circumference\n",
      "0           29.10\n",
      "1           29.55\n",
      "2           29.20\n",
      "3           29.30\n",
      "4           29.00\n",
      "5           29.15\n",
      "6           29.15\n",
      "7           29.25\n",
      "8           29.10\n",
      "9           28.80\n",
      "10          28.90\n",
      "11          29.30\n",
      "12          29.25\n",
      "13          28.65\n",
      "14          28.95\n",
      "15          29.45\n",
      "16          29.10\n",
      "17          29.40\n",
      "18          28.75\n",
      "19          29.05\n",
      "20          29.00\n",
      "21          28.90\n",
      "22          29.05\n",
      "23          29.20\n",
      "24          28.95\n"
     ]
    }
   ],
   "source": [
    "import pandas as pd\n",
    "data = pd.read_csv(\"data_lecture_04_a.csv\")\n",
    "print(data)"
   ]
  },
  {
   "cell_type": "code",
   "execution_count": 2,
   "metadata": {},
   "outputs": [
    {
     "name": "stdout",
     "output_type": "stream",
     "text": [
      "circumference    29.1\n",
      "dtype: float64\n"
     ]
    }
   ],
   "source": [
    "print(data.mean())"
   ]
  },
  {
   "cell_type": "code",
   "execution_count": 3,
   "metadata": {},
   "outputs": [
    {
     "name": "stdout",
     "output_type": "stream",
     "text": [
      "circumference    0.216987\n",
      "dtype: float64\n"
     ]
    }
   ],
   "source": [
    "print(data.std())"
   ]
  },
  {
   "cell_type": "code",
   "execution_count": 5,
   "metadata": {},
   "outputs": [
    {
     "name": "stdout",
     "output_type": "stream",
     "text": [
      "Ttest_1sampResult(statistic=array([2.30428612]), pvalue=array([0.03017014]))\n"
     ]
    }
   ],
   "source": [
    "import scipy.stats as st\n",
    "print(st.ttest_1samp(data, 29))"
   ]
  }
 ],
 "metadata": {
  "kernelspec": {
   "display_name": "Python 3",
   "language": "python",
   "name": "python3"
  },
  "language_info": {
   "codemirror_mode": {
    "name": "ipython",
    "version": 3
   },
   "file_extension": ".py",
   "mimetype": "text/x-python",
   "name": "python",
   "nbconvert_exporter": "python",
   "pygments_lexer": "ipython3",
   "version": "3.6.5"
  }
 },
 "nbformat": 4,
 "nbformat_minor": 2
}

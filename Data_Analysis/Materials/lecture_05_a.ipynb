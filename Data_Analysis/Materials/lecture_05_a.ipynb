{
 "cells": [
  {
   "cell_type": "code",
   "execution_count": 1,
   "metadata": {},
   "outputs": [],
   "source": [
    "import pandas as pd"
   ]
  },
  {
   "cell_type": "code",
   "execution_count": 2,
   "metadata": {},
   "outputs": [
    {
     "name": "stdout",
     "output_type": "stream",
     "text": [
      "       country  year   cases  population\n",
      "0  Afghanistan  1999     745    19987071\n",
      "1  Afghanistan  2000    2666    20595360\n",
      "2       Brazil  1999   37737   172006362\n",
      "3       Brazil  2000   80488   174504898\n",
      "4        China  1999  212258  1272915272\n",
      "5        China  2000  213766  1280428583\n"
     ]
    }
   ],
   "source": [
    "# dataset B is TIDY\n",
    "data_b = pd.read_csv(\"data_lecture_05_b.csv\")\n",
    "print(data_b)"
   ]
  },
  {
   "cell_type": "code",
   "execution_count": 3,
   "metadata": {},
   "outputs": [
    {
     "name": "stdout",
     "output_type": "stream",
     "text": [
      "        country  year        type       count\n",
      "0   Afghanistan  1999       cases         745\n",
      "1   Afghanistan  1999  population    19987071\n",
      "2   Afghanistan  2000       cases        2666\n",
      "3   Afghanistan  2000  population    20595360\n",
      "4        Brazil  1999       cases       37737\n",
      "5        Brazil  1999  population   172006362\n",
      "6        Brazil  2000       cases       80488\n",
      "7        Brazil  2000  population   174504898\n",
      "8         China  1999       cases      212258\n",
      "9         China  1999  population  1272915272\n",
      "10        China  2000       cases      213766\n",
      "11        China  2000  population  1280428583\n"
     ]
    }
   ],
   "source": [
    "# TIDYING dataset A\n",
    "# PROBLEM: one observation is stored in multiple rows\n",
    "data_a = pd.read_csv(\"data_lecture_05_a.csv\")\n",
    "print(data_a)"
   ]
  },
  {
   "cell_type": "code",
   "execution_count": 4,
   "metadata": {},
   "outputs": [
    {
     "name": "stdout",
     "output_type": "stream",
     "text": [
      "type      country  year   cases  population\n",
      "0     Afghanistan  1999     745    19987071\n",
      "1     Afghanistan  2000    2666    20595360\n",
      "2          Brazil  1999   37737   172006362\n",
      "3          Brazil  2000   80488   174504898\n",
      "4           China  1999  212258  1272915272\n",
      "5           China  2000  213766  1280428583\n"
     ]
    }
   ],
   "source": [
    "# reshape (pivot) dataset A from long format to wide format\n",
    "data_a_tidy = pd.pivot_table(data_a, index = ['country', 'year'], \n",
    "                       columns = 'type', values = 'count').reset_index()\n",
    "print(data_a_tidy)"
   ]
  },
  {
   "cell_type": "code",
   "execution_count": 5,
   "metadata": {},
   "outputs": [
    {
     "name": "stdout",
     "output_type": "stream",
     "text": [
      "       country  year               rate\n",
      "0  Afghanistan  1999       745/19987071\n",
      "1  Afghanistan  2000      2666/20595360\n",
      "2       Brazil  1999    37737/172006362\n",
      "3       Brazil  2000    80488/174504898\n",
      "4        China  1999  212258/1272915272\n",
      "5        China  2000  213766/1280428583\n"
     ]
    }
   ],
   "source": [
    "# TIDYING dataset C\n",
    "# PROBLEM: multiple variables ('cases', 'population') are stored in one column ('rate')\n",
    "data_c = pd.read_csv(\"data_lecture_05_c.csv\")\n",
    "print(data_c)"
   ]
  },
  {
   "cell_type": "code",
   "execution_count": 6,
   "metadata": {},
   "outputs": [
    {
     "name": "stdout",
     "output_type": "stream",
     "text": [
      "    cases  population\n",
      "0     745    19987071\n",
      "1    2666    20595360\n",
      "2   37737   172006362\n",
      "3   80488   174504898\n",
      "4  212258  1272915272\n",
      "5  213766  1280428583\n"
     ]
    }
   ],
   "source": [
    "# split 'rate' into two columns ('cases', 'population')\n",
    "data_c_split = data_c['rate'].str.split('/', expand = True)\n",
    "data_c_split.columns = ['cases', 'population']\n",
    "print(data_c_split)"
   ]
  },
  {
   "cell_type": "code",
   "execution_count": 7,
   "metadata": {},
   "outputs": [
    {
     "name": "stdout",
     "output_type": "stream",
     "text": [
      "       country  year   cases  population\n",
      "0  Afghanistan  1999     745    19987071\n",
      "1  Afghanistan  2000    2666    20595360\n",
      "2       Brazil  1999   37737   172006362\n",
      "3       Brazil  2000   80488   174504898\n",
      "4        China  1999  212258  1272915272\n",
      "5        China  2000  213766  1280428583\n"
     ]
    }
   ],
   "source": [
    "# concatenate 'country', 'year', 'cases', and 'population'\n",
    "data_c_tidy = pd.concat([data_c[['country', 'year']], data_c_split], axis = 1)\n",
    "print(data_c_tidy)"
   ]
  },
  {
   "cell_type": "code",
   "execution_count": 8,
   "metadata": {},
   "outputs": [
    {
     "name": "stdout",
     "output_type": "stream",
     "text": [
      "       country    1999    2000\n",
      "0  Afghanistan     745    2666\n",
      "1       Brazil   37737   80488\n",
      "2        China  212258  213766\n",
      "       country        1999        2000\n",
      "0  Afghanistan    19987071    20595360\n",
      "1       Brazil   172006362   174504898\n",
      "2        China  1272915272  1280428583\n"
     ]
    }
   ],
   "source": [
    "# TIDYING dataset D\n",
    "# PROBLEM 1: column headers ('1999', '2000') are values, not variable names\n",
    "# PROBLEM 2: a single observational unit is stored in multiple tables\n",
    "data_d1 = pd.read_csv(\"data_lecture_05_d1.csv\")\n",
    "print(data_d1)\n",
    "data_d2 = pd.read_csv(\"data_lecture_05_d2.csv\")\n",
    "print(data_d2)"
   ]
  },
  {
   "cell_type": "code",
   "execution_count": 9,
   "metadata": {},
   "outputs": [
    {
     "name": "stdout",
     "output_type": "stream",
     "text": [
      "       country  year   cases\n",
      "0  Afghanistan  1999     745\n",
      "1       Brazil  1999   37737\n",
      "2        China  1999  212258\n",
      "3  Afghanistan  2000    2666\n",
      "4       Brazil  2000   80488\n",
      "5        China  2000  213766\n"
     ]
    }
   ],
   "source": [
    "# reshape (melt) dataset D1 from wide format to long format\n",
    "data_d1_tidy = pd.melt(data_d1, id_vars = ['country'], \n",
    "                       var_name = 'year', value_name = 'cases')\n",
    "print(data_d1_tidy)"
   ]
  },
  {
   "cell_type": "code",
   "execution_count": 10,
   "metadata": {},
   "outputs": [
    {
     "name": "stdout",
     "output_type": "stream",
     "text": [
      "       country  year  population\n",
      "0  Afghanistan  1999    19987071\n",
      "1       Brazil  1999   172006362\n",
      "2        China  1999  1272915272\n",
      "3  Afghanistan  2000    20595360\n",
      "4       Brazil  2000   174504898\n",
      "5        China  2000  1280428583\n"
     ]
    }
   ],
   "source": [
    "# reshape (melt) dataset D2 from wide format to long format\n",
    "data_d2_tidy = pd.melt(data_d2, id_vars = ['country'], \n",
    "                       var_name = 'year', value_name = 'population')\n",
    "print(data_d2_tidy)"
   ]
  },
  {
   "cell_type": "code",
   "execution_count": 11,
   "metadata": {},
   "outputs": [
    {
     "name": "stdout",
     "output_type": "stream",
     "text": [
      "       country  year   cases  population\n",
      "0  Afghanistan  1999     745    19987071\n",
      "1  Afghanistan  2000    2666    20595360\n",
      "2       Brazil  1999   37737   172006362\n",
      "3       Brazil  2000   80488   174504898\n",
      "4        China  1999  212258  1272915272\n",
      "5        China  2000  213766  1280428583\n"
     ]
    }
   ],
   "source": [
    "# merge dataset D1 and dataset D2\n",
    "data_d_tidy = pd.merge(data_d1_tidy, data_d2_tidy, how = 'outer',\n",
    "                       on = ['country', 'year'], sort = True)\n",
    "print(data_d_tidy)"
   ]
  }
 ],
 "metadata": {
  "kernelspec": {
   "display_name": "Python 3",
   "language": "python",
   "name": "python3"
  },
  "language_info": {
   "codemirror_mode": {
    "name": "ipython",
    "version": 3
   },
   "file_extension": ".py",
   "mimetype": "text/x-python",
   "name": "python",
   "nbconvert_exporter": "python",
   "pygments_lexer": "ipython3",
   "version": "3.6.5"
  }
 },
 "nbformat": 4,
 "nbformat_minor": 2
}

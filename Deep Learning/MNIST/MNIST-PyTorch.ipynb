{
 "cells": [
  {
   "cell_type": "code",
   "execution_count": 1,
   "metadata": {},
   "outputs": [],
   "source": [
    "import torch\n",
    "import torch.nn as nn\n",
    "import torchvision\n",
    "import torchvision.transforms as transforms"
   ]
  },
  {
   "cell_type": "code",
   "execution_count": 2,
   "metadata": {},
   "outputs": [],
   "source": [
    "# Device configuration\n",
    "device = torch.device('cuda:0' if torch.cuda.is_available() else 'cpu')"
   ]
  },
  {
   "cell_type": "code",
   "execution_count": 33,
   "metadata": {},
   "outputs": [],
   "source": [
    "# Hyperparameters\n",
    "num_epochs = 30\n",
    "num_classes = 10\n",
    "batch_size = 100\n",
    "learning_rate = 0.001"
   ]
  },
  {
   "cell_type": "code",
   "execution_count": 4,
   "metadata": {},
   "outputs": [
    {
     "name": "stdout",
     "output_type": "stream",
     "text": [
      "Downloading http://yann.lecun.com/exdb/mnist/train-images-idx3-ubyte.gz to /data\\MNIST\\raw\\train-images-idx3-ubyte.gz\n"
     ]
    },
    {
     "name": "stderr",
     "output_type": "stream",
     "text": [
      "100.1%"
     ]
    },
    {
     "name": "stdout",
     "output_type": "stream",
     "text": [
      "Extracting /data\\MNIST\\raw\\train-images-idx3-ubyte.gz\n",
      "Downloading http://yann.lecun.com/exdb/mnist/train-labels-idx1-ubyte.gz to /data\\MNIST\\raw\\train-labels-idx1-ubyte.gz\n"
     ]
    },
    {
     "name": "stderr",
     "output_type": "stream",
     "text": [
      "113.5%"
     ]
    },
    {
     "name": "stdout",
     "output_type": "stream",
     "text": [
      "Extracting /data\\MNIST\\raw\\train-labels-idx1-ubyte.gz\n",
      "Downloading http://yann.lecun.com/exdb/mnist/t10k-images-idx3-ubyte.gz to /data\\MNIST\\raw\\t10k-images-idx3-ubyte.gz\n"
     ]
    },
    {
     "name": "stderr",
     "output_type": "stream",
     "text": [
      "100.4%"
     ]
    },
    {
     "name": "stdout",
     "output_type": "stream",
     "text": [
      "Extracting /data\\MNIST\\raw\\t10k-images-idx3-ubyte.gz\n",
      "Downloading http://yann.lecun.com/exdb/mnist/t10k-labels-idx1-ubyte.gz to /data\\MNIST\\raw\\t10k-labels-idx1-ubyte.gz\n"
     ]
    },
    {
     "name": "stderr",
     "output_type": "stream",
     "text": [
      "180.4%"
     ]
    },
    {
     "name": "stdout",
     "output_type": "stream",
     "text": [
      "Extracting /data\\MNIST\\raw\\t10k-labels-idx1-ubyte.gz\n",
      "Processing...\n",
      "Done!\n"
     ]
    }
   ],
   "source": [
    "train_dataset = torchvision.datasets.MNIST(root='/data', train=True, transform=transforms.ToTensor(), download=True)"
   ]
  },
  {
   "cell_type": "code",
   "execution_count": 7,
   "metadata": {},
   "outputs": [],
   "source": [
    "test_dataset = torchvision.datasets.MNIST(root='/data', train=False, transform=transforms.ToTensor())"
   ]
  },
  {
   "cell_type": "code",
   "execution_count": 8,
   "metadata": {},
   "outputs": [],
   "source": [
    "# Data loader\n",
    "train_loader = torch.utils.data.DataLoader(dataset=train_dataset,\n",
    "                                           batch_size=batch_size,\n",
    "                                           shuffle=True)"
   ]
  },
  {
   "cell_type": "code",
   "execution_count": 10,
   "metadata": {},
   "outputs": [],
   "source": [
    "test_loader = torch.utils.data.DataLoader(dataset=test_dataset,\n",
    "                                          batch_size=batch_size,\n",
    "                                          shuffle=False)"
   ]
  },
  {
   "cell_type": "code",
   "execution_count": 11,
   "metadata": {},
   "outputs": [],
   "source": [
    "# Convolutional Neural Network\n",
    "class ConvNet(nn.Module):\n",
    "    def __init__(self, num_classes=10):\n",
    "        super(ConvNet, self).__init__()\n",
    "        self.layer1 = nn.Sequential(\n",
    "            nn.Conv2d(1, 16, kernel_size=5, stride=1, padding=2),\n",
    "            nn.BatchNorm2d(16),\n",
    "            nn.ReLU(),\n",
    "            nn.MaxPool2d(kernel_size=2, stride=2))\n",
    "        self.layer2 = nn.Sequential(\n",
    "            nn.Conv2d(16, 32, kernel_size=5, stride=1, padding=2),\n",
    "            nn.BatchNorm2d(32),\n",
    "            nn.ReLU(),\n",
    "            nn.MaxPool2d(kernel_size=2, stride=2))\n",
    "        self.fc = nn.Linear(7*7*32, num_classes)\n",
    "    \n",
    "    def forward(self, x):\n",
    "        out = self.layer1(x)\n",
    "        out = self.layer2(out)\n",
    "        out = out.reshape(out.size(0), -1)\n",
    "        out = self.fc(out)\n",
    "        \n",
    "        return out"
   ]
  },
  {
   "cell_type": "code",
   "execution_count": 12,
   "metadata": {},
   "outputs": [],
   "source": [
    "model = ConvNet(num_classes).to(device)"
   ]
  },
  {
   "cell_type": "code",
   "execution_count": 13,
   "metadata": {},
   "outputs": [],
   "source": [
    "# Loss and optimizer\n",
    "criterion = nn.CrossEntropyLoss()\n",
    "optimizer = torch.optim.Adam(model.parameters(), lr=learning_rate)"
   ]
  },
  {
   "cell_type": "code",
   "execution_count": 34,
   "metadata": {},
   "outputs": [
    {
     "name": "stdout",
     "output_type": "stream",
     "text": [
      "Epoch [1/30], Step [100/600], Loss: 0.0000\n",
      "Epoch [1/30], Step [200/600], Loss: 0.0000\n",
      "Epoch [1/30], Step [300/600], Loss: 0.0005\n",
      "Epoch [1/30], Step [400/600], Loss: 0.0023\n",
      "Epoch [1/30], Step [500/600], Loss: 0.0000\n",
      "Epoch [1/30], Step [600/600], Loss: 0.0001\n",
      "Epoch [2/30], Step [100/600], Loss: 0.0000\n",
      "Epoch [2/30], Step [200/600], Loss: 0.0000\n",
      "Epoch [2/30], Step [300/600], Loss: 0.0000\n",
      "Epoch [2/30], Step [400/600], Loss: 0.0000\n",
      "Epoch [2/30], Step [500/600], Loss: 0.0000\n",
      "Epoch [2/30], Step [600/600], Loss: 0.0000\n",
      "Epoch [3/30], Step [100/600], Loss: 0.0000\n",
      "Epoch [3/30], Step [200/600], Loss: 0.0000\n",
      "Epoch [3/30], Step [300/600], Loss: 0.0000\n",
      "Epoch [3/30], Step [400/600], Loss: 0.0000\n",
      "Epoch [3/30], Step [500/600], Loss: 0.0000\n",
      "Epoch [3/30], Step [600/600], Loss: 0.0000\n",
      "Epoch [4/30], Step [100/600], Loss: 0.0000\n",
      "Epoch [4/30], Step [200/600], Loss: 0.0000\n",
      "Epoch [4/30], Step [300/600], Loss: 0.0002\n",
      "Epoch [4/30], Step [400/600], Loss: 0.0149\n",
      "Epoch [4/30], Step [500/600], Loss: 0.0000\n",
      "Epoch [4/30], Step [600/600], Loss: 0.0124\n",
      "Epoch [5/30], Step [100/600], Loss: 0.0000\n",
      "Epoch [5/30], Step [200/600], Loss: 0.0000\n",
      "Epoch [5/30], Step [300/600], Loss: 0.0001\n",
      "Epoch [5/30], Step [400/600], Loss: 0.0000\n",
      "Epoch [5/30], Step [500/600], Loss: 0.0010\n",
      "Epoch [5/30], Step [600/600], Loss: 0.0000\n",
      "Epoch [6/30], Step [100/600], Loss: 0.0001\n",
      "Epoch [6/30], Step [200/600], Loss: 0.0000\n",
      "Epoch [6/30], Step [300/600], Loss: 0.0000\n",
      "Epoch [6/30], Step [400/600], Loss: 0.0000\n",
      "Epoch [6/30], Step [500/600], Loss: 0.0018\n",
      "Epoch [6/30], Step [600/600], Loss: 0.0001\n",
      "Epoch [7/30], Step [100/600], Loss: 0.0433\n",
      "Epoch [7/30], Step [200/600], Loss: 0.0000\n",
      "Epoch [7/30], Step [300/600], Loss: 0.0000\n",
      "Epoch [7/30], Step [400/600], Loss: 0.0000\n",
      "Epoch [7/30], Step [500/600], Loss: 0.0000\n",
      "Epoch [7/30], Step [600/600], Loss: 0.0000\n",
      "Epoch [8/30], Step [100/600], Loss: 0.0001\n",
      "Epoch [8/30], Step [200/600], Loss: 0.0000\n",
      "Epoch [8/30], Step [300/600], Loss: 0.0000\n",
      "Epoch [8/30], Step [400/600], Loss: 0.0010\n",
      "Epoch [8/30], Step [500/600], Loss: 0.0000\n",
      "Epoch [8/30], Step [600/600], Loss: 0.0001\n",
      "Epoch [9/30], Step [100/600], Loss: 0.0000\n",
      "Epoch [9/30], Step [200/600], Loss: 0.0003\n",
      "Epoch [9/30], Step [300/600], Loss: 0.0000\n",
      "Epoch [9/30], Step [400/600], Loss: 0.0002\n",
      "Epoch [9/30], Step [500/600], Loss: 0.0004\n",
      "Epoch [9/30], Step [600/600], Loss: 0.0000\n",
      "Epoch [10/30], Step [100/600], Loss: 0.0000\n",
      "Epoch [10/30], Step [200/600], Loss: 0.0000\n",
      "Epoch [10/30], Step [300/600], Loss: 0.0000\n",
      "Epoch [10/30], Step [400/600], Loss: 0.0182\n",
      "Epoch [10/30], Step [500/600], Loss: 0.0000\n",
      "Epoch [10/30], Step [600/600], Loss: 0.0000\n",
      "Epoch [11/30], Step [100/600], Loss: 0.0001\n",
      "Epoch [11/30], Step [200/600], Loss: 0.0028\n",
      "Epoch [11/30], Step [300/600], Loss: 0.0000\n",
      "Epoch [11/30], Step [400/600], Loss: 0.0000\n",
      "Epoch [11/30], Step [500/600], Loss: 0.0001\n",
      "Epoch [11/30], Step [600/600], Loss: 0.0001\n",
      "Epoch [12/30], Step [100/600], Loss: 0.0000\n",
      "Epoch [12/30], Step [200/600], Loss: 0.0000\n",
      "Epoch [12/30], Step [300/600], Loss: 0.0000\n",
      "Epoch [12/30], Step [400/600], Loss: 0.0000\n",
      "Epoch [12/30], Step [500/600], Loss: 0.0000\n",
      "Epoch [12/30], Step [600/600], Loss: 0.0000\n",
      "Epoch [13/30], Step [100/600], Loss: 0.0000\n",
      "Epoch [13/30], Step [200/600], Loss: 0.0089\n",
      "Epoch [13/30], Step [300/600], Loss: 0.0000\n",
      "Epoch [13/30], Step [400/600], Loss: 0.0000\n",
      "Epoch [13/30], Step [500/600], Loss: 0.0000\n",
      "Epoch [13/30], Step [600/600], Loss: 0.0002\n",
      "Epoch [14/30], Step [100/600], Loss: 0.0000\n",
      "Epoch [14/30], Step [200/600], Loss: 0.0000\n",
      "Epoch [14/30], Step [300/600], Loss: 0.0000\n",
      "Epoch [14/30], Step [400/600], Loss: 0.0000\n",
      "Epoch [14/30], Step [500/600], Loss: 0.0000\n",
      "Epoch [14/30], Step [600/600], Loss: 0.0041\n",
      "Epoch [15/30], Step [100/600], Loss: 0.0000\n",
      "Epoch [15/30], Step [200/600], Loss: 0.0000\n",
      "Epoch [15/30], Step [300/600], Loss: 0.0000\n",
      "Epoch [15/30], Step [400/600], Loss: 0.0000\n",
      "Epoch [15/30], Step [500/600], Loss: 0.0000\n",
      "Epoch [15/30], Step [600/600], Loss: 0.0081\n",
      "Epoch [16/30], Step [100/600], Loss: 0.0002\n",
      "Epoch [16/30], Step [200/600], Loss: 0.0000\n",
      "Epoch [16/30], Step [300/600], Loss: 0.0000\n",
      "Epoch [16/30], Step [400/600], Loss: 0.0000\n",
      "Epoch [16/30], Step [500/600], Loss: 0.0000\n",
      "Epoch [16/30], Step [600/600], Loss: 0.0033\n",
      "Epoch [17/30], Step [100/600], Loss: 0.0003\n",
      "Epoch [17/30], Step [200/600], Loss: 0.0002\n",
      "Epoch [17/30], Step [300/600], Loss: 0.0000\n",
      "Epoch [17/30], Step [400/600], Loss: 0.0000\n",
      "Epoch [17/30], Step [500/600], Loss: 0.0000\n",
      "Epoch [17/30], Step [600/600], Loss: 0.0011\n",
      "Epoch [18/30], Step [100/600], Loss: 0.0000\n",
      "Epoch [18/30], Step [200/600], Loss: 0.0000\n",
      "Epoch [18/30], Step [300/600], Loss: 0.0032\n",
      "Epoch [18/30], Step [400/600], Loss: 0.0000\n",
      "Epoch [18/30], Step [500/600], Loss: 0.0000\n",
      "Epoch [18/30], Step [600/600], Loss: 0.0000\n",
      "Epoch [19/30], Step [100/600], Loss: 0.0000\n",
      "Epoch [19/30], Step [200/600], Loss: 0.0003\n",
      "Epoch [19/30], Step [300/600], Loss: 0.0015\n",
      "Epoch [19/30], Step [400/600], Loss: 0.0000\n",
      "Epoch [19/30], Step [500/600], Loss: 0.0018\n",
      "Epoch [19/30], Step [600/600], Loss: 0.0000\n",
      "Epoch [20/30], Step [100/600], Loss: 0.0001\n",
      "Epoch [20/30], Step [200/600], Loss: 0.0000\n",
      "Epoch [20/30], Step [300/600], Loss: 0.0000\n",
      "Epoch [20/30], Step [400/600], Loss: 0.0000\n",
      "Epoch [20/30], Step [500/600], Loss: 0.0000\n",
      "Epoch [20/30], Step [600/600], Loss: 0.0000\n",
      "Epoch [21/30], Step [100/600], Loss: 0.0000\n",
      "Epoch [21/30], Step [200/600], Loss: 0.0001\n",
      "Epoch [21/30], Step [300/600], Loss: 0.0000\n",
      "Epoch [21/30], Step [400/600], Loss: 0.0000\n",
      "Epoch [21/30], Step [500/600], Loss: 0.0000\n",
      "Epoch [21/30], Step [600/600], Loss: 0.0011\n",
      "Epoch [22/30], Step [100/600], Loss: 0.0000\n",
      "Epoch [22/30], Step [200/600], Loss: 0.0000\n",
      "Epoch [22/30], Step [300/600], Loss: 0.0000\n",
      "Epoch [22/30], Step [400/600], Loss: 0.0000\n",
      "Epoch [22/30], Step [500/600], Loss: 0.0004\n",
      "Epoch [22/30], Step [600/600], Loss: 0.0000\n",
      "Epoch [23/30], Step [100/600], Loss: 0.0000\n",
      "Epoch [23/30], Step [200/600], Loss: 0.0002\n",
      "Epoch [23/30], Step [300/600], Loss: 0.0000\n",
      "Epoch [23/30], Step [400/600], Loss: 0.0000\n",
      "Epoch [23/30], Step [500/600], Loss: 0.0000\n",
      "Epoch [23/30], Step [600/600], Loss: 0.0000\n",
      "Epoch [24/30], Step [100/600], Loss: 0.0000\n",
      "Epoch [24/30], Step [200/600], Loss: 0.0000\n",
      "Epoch [24/30], Step [300/600], Loss: 0.0000\n",
      "Epoch [24/30], Step [400/600], Loss: 0.0000\n",
      "Epoch [24/30], Step [500/600], Loss: 0.0000\n",
      "Epoch [24/30], Step [600/600], Loss: 0.0000\n",
      "Epoch [25/30], Step [100/600], Loss: 0.0000\n",
      "Epoch [25/30], Step [200/600], Loss: 0.0000\n",
      "Epoch [25/30], Step [300/600], Loss: 0.0000\n",
      "Epoch [25/30], Step [400/600], Loss: 0.0000\n",
      "Epoch [25/30], Step [500/600], Loss: 0.0000\n",
      "Epoch [25/30], Step [600/600], Loss: 0.0000\n",
      "Epoch [26/30], Step [100/600], Loss: 0.0000\n",
      "Epoch [26/30], Step [200/600], Loss: 0.0000\n",
      "Epoch [26/30], Step [300/600], Loss: 0.0000\n",
      "Epoch [26/30], Step [400/600], Loss: 0.0000\n",
      "Epoch [26/30], Step [500/600], Loss: 0.0000\n",
      "Epoch [26/30], Step [600/600], Loss: 0.0000\n",
      "Epoch [27/30], Step [100/600], Loss: 0.0000\n",
      "Epoch [27/30], Step [200/600], Loss: 0.0000\n",
      "Epoch [27/30], Step [300/600], Loss: 0.0000\n",
      "Epoch [27/30], Step [400/600], Loss: 0.0000\n",
      "Epoch [27/30], Step [500/600], Loss: 0.0000\n",
      "Epoch [27/30], Step [600/600], Loss: 0.0000\n",
      "Epoch [28/30], Step [100/600], Loss: 0.0000\n",
      "Epoch [28/30], Step [200/600], Loss: 0.0000\n",
      "Epoch [28/30], Step [300/600], Loss: 0.0000\n",
      "Epoch [28/30], Step [400/600], Loss: 0.0000\n",
      "Epoch [28/30], Step [500/600], Loss: 0.0000\n",
      "Epoch [28/30], Step [600/600], Loss: 0.0000\n",
      "Epoch [29/30], Step [100/600], Loss: 0.0000\n",
      "Epoch [29/30], Step [200/600], Loss: 0.0000\n",
      "Epoch [29/30], Step [300/600], Loss: 0.0000\n",
      "Epoch [29/30], Step [400/600], Loss: 0.0000\n",
      "Epoch [29/30], Step [500/600], Loss: 0.0000\n",
      "Epoch [29/30], Step [600/600], Loss: 0.0000\n",
      "Epoch [30/30], Step [100/600], Loss: 0.0000\n",
      "Epoch [30/30], Step [200/600], Loss: 0.0000\n",
      "Epoch [30/30], Step [300/600], Loss: 0.0000\n",
      "Epoch [30/30], Step [400/600], Loss: 0.0000\n",
      "Epoch [30/30], Step [500/600], Loss: 0.0000\n",
      "Epoch [30/30], Step [600/600], Loss: 0.0000\n"
     ]
    }
   ],
   "source": [
    "# Train the model\n",
    "total_step = len(train_loader)\n",
    "for epoch in range(num_epochs):\n",
    "    for i, (images, labels) in enumerate(train_loader):\n",
    "        images = images.to(device)\n",
    "        labels = labels.to(device)\n",
    "        \n",
    "        # Forward pass\n",
    "        outputs = model(images)\n",
    "        loss = criterion(outputs, labels)\n",
    "        \n",
    "        # Backward and optimize\n",
    "        optimizer.zero_grad()\n",
    "        loss.backward()\n",
    "        optimizer.step()\n",
    "        \n",
    "        if (i+1) % 100 == 0:\n",
    "            print('Epoch [{}/{}], Step [{}/{}], Loss: {:.4f}'\n",
    "                  .format(epoch+1, num_epochs, i+1, total_step, loss.item()))"
   ]
  },
  {
   "cell_type": "code",
   "execution_count": 36,
   "metadata": {},
   "outputs": [
    {
     "name": "stdout",
     "output_type": "stream",
     "text": [
      "Test Accuracy of the model on the 10000 test images:99.25 %\n"
     ]
    }
   ],
   "source": [
    "model.eval()\n",
    "with torch.no_grad():\n",
    "    correct = 0\n",
    "    total = 0\n",
    "    for images, labels in test_loader:\n",
    "        images = images.to(device)\n",
    "        labels = labels.to(device)\n",
    "        outputs = model(images)\n",
    "        _, predicted = torch.max(outputs.data, 1)\n",
    "        total += labels.size(0)\n",
    "        correct += (predicted == labels).sum().item()\n",
    "    print('Test Accuracy of the model on the 10000 test images:{} %'.format(100 * correct / total))"
   ]
  },
  {
   "cell_type": "code",
   "execution_count": 32,
   "metadata": {},
   "outputs": [],
   "source": [
    "# Save the model checkpoint\n",
    "torch.save(model.state_dict(), 'model_PyTorch.ckpt')"
   ]
  },
  {
   "cell_type": "code",
   "execution_count": null,
   "metadata": {},
   "outputs": [],
   "source": []
  }
 ],
 "metadata": {
  "kernelspec": {
   "display_name": "Python 3",
   "language": "python",
   "name": "python3"
  },
  "language_info": {
   "codemirror_mode": {
    "name": "ipython",
    "version": 3
   },
   "file_extension": ".py",
   "mimetype": "text/x-python",
   "name": "python",
   "nbconvert_exporter": "python",
   "pygments_lexer": "ipython3",
   "version": "3.5.6"
  }
 },
 "nbformat": 4,
 "nbformat_minor": 2
}

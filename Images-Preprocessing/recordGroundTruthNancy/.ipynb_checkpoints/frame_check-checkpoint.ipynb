{
 "cells": [
  {
   "cell_type": "code",
   "execution_count": 30,
   "metadata": {},
   "outputs": [],
   "source": [
    "import cv2\n",
    "import matplotlib.pyplot as plt\n",
    "import os\n",
    "import glob"
   ]
  },
  {
   "cell_type": "code",
   "execution_count": 31,
   "metadata": {},
   "outputs": [],
   "source": [
    "def frame_check(frame_dir_idx):\n",
    "    frame_dir = str(frame_dir_idx)+\"_mp4\"\n",
    "    frame_files = sorted(glob.glob(os.path.join(frame_dir, \"Frames\", '*.jpg')))\n",
    "    #print(frame_files)\n",
    "    for frame in frame_files:\n",
    "        frame_name = os.path.split(frame)[-1].split('.')[0]\n",
    "        img = cv2.imread(frame)\n",
    "        img = cv2.cvtColor(img,cv2.COLOR_BGR2RGB)\n",
    "        plt.imshow(img)\n",
    "        plt.show()\n",
    "        with open(os.path.join(frame_dir, \"Ground-truth\", frame_name+\".txt\"), \"w+\") as outfile:\n",
    "            while True:\n",
    "                gun_yn = input(\"Is there a gun in this frame? 1 for yes, 0 for no. \")\n",
    "                if gun_yn.strip() == '1':\n",
    "                    outfile.write(\"1\")\n",
    "                    break\n",
    "                elif gun_yn.strip() == '0':\n",
    "                    outfile.write(\"0\")\n",
    "                    break"
   ]
  },
  {
   "cell_type": "code",
   "execution_count": 33,
   "metadata": {},
   "outputs": [],
   "source": [
    "frame_check(1)"
   ]
  },
  {
   "cell_type": "code",
   "execution_count": null,
   "metadata": {},
   "outputs": [],
   "source": []
  }
 ],
 "metadata": {
  "kernelspec": {
   "display_name": "Python 3",
   "language": "python",
   "name": "python3"
  },
  "language_info": {
   "codemirror_mode": {
    "name": "ipython",
    "version": 3
   },
   "file_extension": ".py",
   "mimetype": "text/x-python",
   "name": "python",
   "nbconvert_exporter": "python",
   "pygments_lexer": "ipython3",
   "version": "3.6.6"
  }
 },
 "nbformat": 4,
 "nbformat_minor": 2
}

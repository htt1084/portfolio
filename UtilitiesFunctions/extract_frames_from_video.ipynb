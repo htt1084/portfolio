{
 "cells": [
  {
   "cell_type": "code",
   "execution_count": 1,
   "metadata": {},
   "outputs": [],
   "source": [
    "import cv2\n",
    "import numpy as np\n",
    "#import matplotlib.pyplot as plt\n",
    "import os"
   ]
  },
  {
   "cell_type": "code",
   "execution_count": 2,
   "metadata": {},
   "outputs": [
    {
     "data": {
      "text/plain": [
       "'C:\\\\Users\\\\thoan\\\\extract_clean_python'"
      ]
     },
     "execution_count": 2,
     "metadata": {},
     "output_type": "execute_result"
    }
   ],
   "source": [
    "os.getcwd()"
   ]
  },
  {
   "cell_type": "code",
   "execution_count": 6,
   "metadata": {},
   "outputs": [],
   "source": [
    "# The parameter frameRate takes in an positive integer between 1 to 24 inclusively, which is how many images\n",
    "# needs to be extracted per second. For a 25 seconds video, if you want 25 images,\n",
    "# 1 would be your frameRate. If you want 50 images instead, 2 would be your frameRate.\n",
    "#def extract_jpg_frm_mp4(file_name, frameRate, option):\n",
    "def extract_jpg_frm_mp4(file_name, frameRate):\n",
    "    mp4_file = file_name + '.mp4'\n",
    "    # print(mp4_file)\n",
    "    # # High definition (OpenCV):\n",
    "    # # Output a single frame from the video into an image file:\n",
    "    '''\n",
    "    if option == 1:\n",
    "        cv2_ver = (cv2.__version__).split('.')[0]\n",
    "        #print(cv2_ver)\n",
    "        capture = cv2.VideoCapture(mp4_file)\n",
    "        success, image = capture.read()\n",
    "        cv2.imshow('image', image)\n",
    "        cv2.waitKey(0)\n",
    "        cv2.destroyAllWindows()\n",
    "        cv2.imwrite(file_name + '_' + '0001' + '.jpg', image)\n",
    "        capture.release()\n",
    "    '''\n",
    "    # cv2\n",
    "    # # Output X image every second\n",
    "    #if option == 2:\n",
    "    cv2_ver = (cv2.__version__).split('.')[0]\n",
    "    if int(cv2_ver)  < 3 :\n",
    "        capture = cv2.VideoCapture(mp4_file)\n",
    "        fps = (capture.get(cv2.cv.CV_CAP_PROP_FPS))\n",
    "    else: \n",
    "        capture = cv2.VideoCapture(mp4_file)\n",
    "        fps = (capture.get(cv2.CAP_PROP_FPS))\n",
    "        \n",
    "    print(\"Frame per second: \" + str(fps))\n",
    "    i = 0\n",
    "    success = True\n",
    "    saved_pic_num = 1\n",
    "\n",
    "    while (success):\n",
    "        i += 1\n",
    "        success,image = capture.read()\n",
    "        if success:\n",
    "            if (i % int(fps / (frameRate))) == 0:\n",
    "                cv2.imwrite(file_name + '_' + str(saved_pic_num).zfill(4) + '.jpg', image)\n",
    "                saved_pic_num += 1\n",
    "    capture.release()\n",
    "\n",
    "\n",
    "    return 0"
   ]
  },
  {
   "cell_type": "code",
   "execution_count": 7,
   "metadata": {},
   "outputs": [
    {
     "name": "stdout",
     "output_type": "stream",
     "text": [
      "Frame per second: 23.976023976023978\n"
     ]
    },
    {
     "data": {
      "text/plain": [
       "0"
      ]
     },
     "execution_count": 7,
     "metadata": {},
     "output_type": "execute_result"
    }
   ],
   "source": [
    "extract_jpg_frm_mp4('S1', 1)"
   ]
  },
  {
   "cell_type": "code",
   "execution_count": null,
   "metadata": {},
   "outputs": [],
   "source": []
  }
 ],
 "metadata": {
  "kernelspec": {
   "display_name": "Python 3",
   "language": "python",
   "name": "python3"
  },
  "language_info": {
   "codemirror_mode": {
    "name": "ipython",
    "version": 3
   },
   "file_extension": ".py",
   "mimetype": "text/x-python",
   "name": "python",
   "nbconvert_exporter": "python",
   "pygments_lexer": "ipython3",
   "version": "3.5.5"
  }
 },
 "nbformat": 4,
 "nbformat_minor": 2
}

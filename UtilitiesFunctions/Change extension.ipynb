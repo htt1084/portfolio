{
 "cells": [
  {
   "cell_type": "code",
   "execution_count": 3,
   "metadata": {},
   "outputs": [],
   "source": [
    "import os,sys\n",
    "folder = 'gun900'\n",
    "for filename in os.listdir(folder):\n",
    "       infilename = os.path.join(folder,filename)\n",
    "       if not os.path.isfile(infilename): continue\n",
    "       oldbase = os.path.splitext(filename)\n",
    "       #print(oldbase)\n",
    "       newname = infilename.replace('.JPG', '.jpg')\n",
    "       output = os.rename(infilename, newname)"
   ]
  },
  {
   "cell_type": "code",
   "execution_count": null,
   "metadata": {},
   "outputs": [],
   "source": []
  }
 ],
 "metadata": {
  "kernelspec": {
   "display_name": "Python 3",
   "language": "python",
   "name": "python3"
  },
  "language_info": {
   "codemirror_mode": {
    "name": "ipython",
    "version": 3
   },
   "file_extension": ".py",
   "mimetype": "text/x-python",
   "name": "python",
   "nbconvert_exporter": "python",
   "pygments_lexer": "ipython3",
   "version": "3.6.5"
  }
 },
 "nbformat": 4,
 "nbformat_minor": 2
}

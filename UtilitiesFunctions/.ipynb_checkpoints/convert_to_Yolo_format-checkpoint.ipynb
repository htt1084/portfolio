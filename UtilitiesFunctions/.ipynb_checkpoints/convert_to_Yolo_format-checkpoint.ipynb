{
 "cells": [
  {
   "cell_type": "code",
   "execution_count": 2,
   "metadata": {},
   "outputs": [],
   "source": [
    "#import numpy as np\n",
    "#import pandas as pd\n",
    "#import matplotlib.pyplot as plt\n",
    "import os\n",
    "from os import walk, getcwd\n",
    "from PIL import Image"
   ]
  },
  {
   "cell_type": "code",
   "execution_count": 3,
   "metadata": {},
   "outputs": [],
   "source": [
    "# This function helps convert the coordinates returned by Figure 8 to YOLO format\n",
    "def convert(size, box):\n",
    "    dw = 1./size[0]\n",
    "    dh = 1./size[1]\n",
    "    x = (box[0] + box[1])/2.0\n",
    "    y = (box[2] + box[3])/2.0\n",
    "    w = box[1] - box[0]\n",
    "    h = box[3] - box[2]\n",
    "    x = x*dw\n",
    "    w = w*dw\n",
    "    y = y*dh\n",
    "    h = h*dh\n",
    "    return (x,y,w,h)"
   ]
  },
  {
   "cell_type": "code",
   "execution_count": 4,
   "metadata": {},
   "outputs": [
    {
     "name": "stdout",
     "output_type": "stream",
     "text": [
      "C:\\Users\\thoan\\Aegis-AI\\Images-Preprocessing\n"
     ]
    }
   ],
   "source": [
    "print(getcwd())\n",
    "#os.chdir(\"..\")  # go back, same as cd .."
   ]
  },
  {
   "cell_type": "code",
   "execution_count": null,
   "metadata": {},
   "outputs": [],
   "source": [
    "#os.chdir(\"C:/Users/thoan/Aegis-AI/Images-Preprocessing/Sonny's Backyard in Austin, Black Pistols, June (Elevated) (labeled by Mladen-7-15-2018)\")\n",
    "#print(getcwd())"
   ]
  },
  {
   "cell_type": "code",
   "execution_count": null,
   "metadata": {},
   "outputs": [],
   "source": [
    "images_folder = \"Images\"\n",
    "for filename in os.listdir(images_folder):\n",
    "    print(filename) \n",
    "    "
   ]
  },
  {
   "cell_type": "code",
   "execution_count": null,
   "metadata": {},
   "outputs": [],
   "source": [
    "regular_labels_folder = \"Regular-Labels\"\n",
    "regular_label_name_list = []\n",
    "for filename in os.listdir(regular_labels_folder):\n",
    "    regular_label_name_list.append(filename)\n",
    "    print(filename)\n",
    "print(regular_label_name_list)\n",
    "print(len(regular_label_name_list))"
   ]
  },
  {
   "cell_type": "code",
   "execution_count": null,
   "metadata": {},
   "outputs": [],
   "source": [
    "yolo_labels_folder = \"Yolo-Labels\"\n",
    "if not os.path.exists(yolo_labels_folder):\n",
    "    os.makedirs(yolo_labels_folder)\n",
    "for filename in os.listdir(yolo_labels_folder):\n",
    "    print(filename)"
   ]
  },
  {
   "cell_type": "code",
   "execution_count": null,
   "metadata": {},
   "outputs": [],
   "source": [
    "# Create new folder to store .txt files of YOLO format\n",
    "regular_labels_path = \"./\" + regular_labels_folder + \"/\"\n",
    "#print(mypath)\n",
    "outpath = \"./\" + yolo_labels_folder + \"/\"\n",
    "#print(outpath)\n",
    "txt_name_list = []\n",
    "for (dirpath, dirnames, filenames) in walk(regular_labels_path):\n",
    "    print(dirpath)\n",
    "    print(dirnames)\n",
    "    print(filenames)\n",
    "    txt_name_list.extend(filenames)\n",
    "    break\n",
    "print(txt_name_list)\n",
    "print(len(txt_name_list))"
   ]
  },
  {
   "cell_type": "code",
   "execution_count": null,
   "metadata": {},
   "outputs": [],
   "source": [
    "print(regular_label_name_list == txt_name_list)"
   ]
  },
  {
   "cell_type": "code",
   "execution_count": null,
   "metadata": {},
   "outputs": [],
   "source": [
    "for txt_name in regular_label_name_list:\n",
    "    \n",
    "    \"\"\" Open input text files \"\"\"\n",
    "    txt_path = regular_labels_path + txt_name\n",
    "    print(\"Input:\" + txt_path)\n",
    "    txt_file = open(txt_path, \"r\")\n",
    "    lines = txt_file.read().split('\\n')  # or '\\r\\n'\n",
    "    \n",
    "    \"\"\" Open output text files \"\"\"\n",
    "    txt_outpath = outpath + txt_name\n",
    "    print(\"Output:\" + txt_outpath)\n",
    "    txt_outfile = open(txt_outpath, \"w\")"
   ]
  },
  {
   "cell_type": "code",
   "execution_count": null,
   "metadata": {
    "scrolled": true
   },
   "outputs": [],
   "source": [
    "# Conversion process, bounding box of 392 662 660 212 will be \n",
    "# converted to (0.37604166666666666, 0.6000000000000001, 0.34375, 0.16562500000000002)\n",
    "# where 1920 1280 is the size of corresponding image IMG_6339.jpg\n",
    "\n",
    "# Input:./labels/gun_original/IMG_6339.txt\n",
    "# Output:./labels/gun/IMG_6339.txt\n",
    "# 392 662 660 212\n",
    "\n",
    "# 1920 1280\n",
    "# (0.37604166666666666, 0.6000000000000001, 0.34375, 0.16562500000000002)\n",
    "\n",
    "for txt_name in regular_label_name_list:\n",
    "    \n",
    "    \"\"\" Open input text files \"\"\"\n",
    "    txt_path = regular_labels_path + txt_name\n",
    "    print(\"Input:\" + txt_path)\n",
    "    txt_file = open(txt_path, \"r\")\n",
    "    lines = txt_file.read().split('\\n')  # or '\\r\\n'\n",
    "    \n",
    "    \"\"\" Open output text files \"\"\"\n",
    "    txt_outpath = outpath + txt_name\n",
    "    print(\"Output:\" + txt_outpath)\n",
    "    txt_outfile = open(txt_outpath, \"w\")\n",
    "    \n",
    "    \"\"\" Convert the data to YOLO format \"\"\"\n",
    "    ct = 0\n",
    "    #print(lines)\n",
    "    for line in lines:\n",
    "        #print('lenth of line is: ')\n",
    "        #print(line)\n",
    "        #print('\\n')\n",
    "        if(len(line) >= 2):\n",
    "            ct = ct + 1\n",
    "            print(line)\n",
    "            elems = line.split(' ')\n",
    "            print(elems)\n",
    "            # Remember that elems are coordinates of x1 y1 x2 y2 where (x1, y1) is the top left corner,  \n",
    "            # and (x2, y2) is the bottom right corner\n",
    "            xmin = int(elems[0])\n",
    "            xmax = int(elems[2])\n",
    "            ymin = int(elems[1])\n",
    "            ymax = int(elems[3])\n",
    "            \n",
    "            img_path = str('./Images/%s.JPG'%(os.path.splitext(txt_name)[0]))\n",
    "            print(img_path)\n",
    "\n",
    "            im=Image.open(img_path)\n",
    "            w= int(im.size[0])\n",
    "            h= int(im.size[1])\n",
    "            #w = int(xmax) - int(xmin)\n",
    "            #h = int(ymax) - int(ymin)\n",
    "            #print(xmin)\n",
    "            print(w, h)\n",
    "            b = (float(xmin), float(xmax), float(ymin), float(ymax))\n",
    "            #print(b)\n",
    "            bb = convert((w,h), b)\n",
    "            print(bb)\n",
    "            print(\"\\n\")\n",
    "            txt_outfile.write(str(0) + \" \" + \" \".join([str(a) for a in bb]) + '\\n')\n",
    "            \n",
    "    \"\"\" Save those images with bb into list\"\"\"\n",
    "    #if(ct != 0):\n",
    "        #list_file.write('%s/images/%s/%s.JPG\\n'%(wd, cls, os.path.splitext(txt_name)[0]))\n",
    "    txt_outfile.close()        \n",
    "#list_file.close()"
   ]
  },
  {
   "cell_type": "code",
   "execution_count": null,
   "metadata": {},
   "outputs": [],
   "source": [
    "os.chdir(\"..\")\n",
    "print(getcwd())"
   ]
  },
  {
   "cell_type": "code",
   "execution_count": null,
   "metadata": {},
   "outputs": [],
   "source": [
    "!jupyter nbconvert --to script convert_to_Yolo_format.ipynb"
   ]
  },
  {
   "cell_type": "code",
   "execution_count": null,
   "metadata": {},
   "outputs": [],
   "source": []
  }
 ],
 "metadata": {
  "kernelspec": {
   "display_name": "Python 3",
   "language": "python",
   "name": "python3"
  },
  "language_info": {
   "codemirror_mode": {
    "name": "ipython",
    "version": 3
   },
   "file_extension": ".py",
   "mimetype": "text/x-python",
   "name": "python",
   "nbconvert_exporter": "python",
   "pygments_lexer": "ipython3",
   "version": "3.6.6"
  }
 },
 "nbformat": 4,
 "nbformat_minor": 2
}
